{
 "cells": [
  {
   "cell_type": "code",
   "execution_count": 30,
   "id": "8871b579",
   "metadata": {},
   "outputs": [
    {
     "name": "stdout",
     "output_type": "stream",
     "text": [
      "64061586\n"
     ]
    }
   ],
   "source": [
    "# Download spaces on the Janelia wiki and save to files on disk\n",
    "# Based on documentation at https://atlassian-python-api.readthedocs.io/confluence.html#get-page-info\n",
    "\n",
    "import os\n",
    "from atlassian import Confluence\n",
    "\n",
    "confluence_url = \"https://wikis.janelia.org\"\n",
    "confluence_pat = os.environ.get('CONFLUENCE_TOKEN')\n",
    "confluence = Confluence(url=confluence_url, token=confluence_pat)\n",
    "\n",
    "space = 'SCSW'\n",
    "title = 'Using Nextflow'\n",
    "page_id = confluence.get_page_id(space, title)\n",
    "\n",
    "print(page_id)"
   ]
  },
  {
   "cell_type": "code",
   "execution_count": 81,
   "id": "6ff06657",
   "metadata": {},
   "outputs": [
    {
     "name": "stdout",
     "output_type": "stream",
     "text": [
      "ID: 30746766\n",
      "Path: /display/SCSW/SCA+Java+and+Object-Oriented+Programming\n",
      "Link: https://wikis.janelia.org/display/SCSW/SCA+Java+and+Object-Oriented+Programming\n",
      "Title: SCA Java and Object-Oriented Programming\n",
      "Labels: []\n",
      "Ancestors: ['Scientific Computing Software', 'Education', 'SCA Curriculum']\n",
      "<h2 id=\"SCAJavaandObjectOrientedProgramming-Introduction\">Introduction</h2><p>This unit covers Java and Object-Oriented programming. Its &quot;un&quot;-structure has been shamelessly copied from the <a href=\"/display/SCSW/SCA+Python+curriculum\">SCA Python curriculum</a>.</p><p>The idea is to mix self-guided education (online tutorials &amp; courses, books) with some practical projects, all with the assistance of an experienced developer from SciComp to act as guide/resource/tutor.</p><p>Suggested plan:</p><ul><li>initial orientation with guide; talk about what to tackle, what projects to try, how to get set up, etc.</li><li>if you have zero Java experience:<ul><li>install Java Development Kit and IntelliJ IDE (see <span class=\"confluence-link\">Setup</span> below)</li><li>do basic tutorial of some kind</li></ul></li><li>if you have some Java experience:<ul><li>jump to more advanced tutorials/courses, focus on more recent language additions like lambdas and streams</li></ul></li><li>using resources below, alternate between:<ul><li>reading more docs/books </li><li>doing tutorials/courses that have some interactive elements or have exercises</li><li>doing mini-projects</li><li>doing engineering stuff on projects: version control, debugging, profiling &amp; optimizing, using packaging and deployment tools, etc. </li></ul></li><li>interact daily and frequently with your guide; they have time specifically set aside for this<ul><li>get your code reviewed</li></ul></li></ul><h2 id=\"SCAJavaandObjectOrientedProgramming-Setup\">Setup</h2><ul><li>Install latest Java Development Kit 8 release for your OS (scroll to bottom of page to get latest JDK with samples and demos):<a href=\"http://www.oracle.com/technetwork/java/javase/downloads/jdk8-downloads-2133151.html\" class=\"external-link\" rel=\"nofollow\"> <br/>http://www.oracle.com/technetwork/java/javase/downloads/jdk8-downloads-2133151.html</a></li><li>Install IntelliJ Community Edition Java IDE:<a href=\"https://www.jetbrains.com/idea/download\" class=\"external-link\" rel=\"nofollow\"> <br/>https://www.jetbrains.com/idea/download</a> ( first time &quot;hello world&quot; video is here: <a href=\"https://www.jetbrains.com/idea/documentation/\" class=\"external-link\" rel=\"nofollow\">https://www.jetbrains.com/idea/documentation/</a> )</li><li>Install Maven:<br/><a href=\"https://maven.apache.org/guides/getting-started/maven-in-five-minutes.html\" class=\"external-link\" rel=\"nofollow\">https://maven.apache.org/guides/getting-started/maven-in-five-minutes.html</a></li></ul><h2 id=\"SCAJavaandObjectOrientedProgramming-Tutorials\">Tutorials</h2><ul><li>The <a href=\"https://docs.oracle.com/javase/tutorial/index.html\" class=\"external-link\" rel=\"nofollow\">Java Tutorials</a> are the &quot;original&quot; tutorials developed by Sun/Oracle for Java. They include hundreds of complete, working examples, and dozens of lessons.</li><li>The <a href=\"http://courses.coreservlets.com/Course-Materials/java.html\" class=\"external-link\" rel=\"nofollow\">Learning Modern Java: A Tutorial Using Java 8</a> site (Marty Hall, Johns Hopkins) has a bunch of basic tutorials.</li><li>The <a href=\"http://www.baeldung.com/java-tutorial\" class=\"external-link\" rel=\"nofollow\">Baeldung Java “Back to Basics” Tutorials</a> cover some more advanced topics.  The <a href=\"http://www.baeldung.com/full_archive\" class=\"external-link\" rel=\"nofollow\">Baeldung site</a> is a useful resource with hundreds of articles/tutorials, but keep in mind that much of the site discusses <a href=\"https://spring.io/\" class=\"external-link\" rel=\"nofollow\">Spring Framework</a> topics which are outside the scope of this unit.</li><li>Just came across this tutorial site: <a href=\"http://tutorials.jenkov.com/\" class=\"external-link\" rel=\"nofollow\">http://tutorials.jenkov.com/</a> - need to take a closer look to see if it should be included in the list here.</li><li>Nicole is looking at <a href=\"https://teamtreehouse.com/tracks/learn-java\" class=\"external-link\" rel=\"nofollow\">https://teamtreehouse.com/tracks/learn-java</a> and will report back on quality.</li></ul><p> </p><h2 id=\"SCAJavaandObjectOrientedProgramming-Topics\">Topics</h2><p>This is a non-comprehensive list of things Java programmers should know. Use it as a guide for choosing tutorials, courses, and reading material. </p><p>This is just a draft laundry list to be extended and better organized sometime soon ...</p><ul><li>...</li></ul><h2 id=\"SCAJavaandObjectOrientedProgramming-Projects\">Projects</h2><ul><li>See project ideas in <a href=\"/display/SCSW/SCA+Python+curriculum\">SCA Python curriculum</a>.</li><li>Modify <a href=\"https://maven.apache.org/guides/getting-started/maven-in-five-minutes.html\" class=\"external-link\" rel=\"nofollow\">maven-in-five-minutes</a> hello world app to use <a href=\"http://jcommander.org/\" class=\"external-link\" rel=\"nofollow\">JCommander</a> annotation library <br/>(tip: maven dependency configuration for the JCommander library is here: <a href=\"https://mvnrepository.com/artifact/com.beust/jcommander/1.72\" class=\"external-link\" rel=\"nofollow\">https://mvnrepository.com/artifact/com.beust/jcommander/1.72</a>).  </li><li>Other ideas to be added here (as they reveal themselves <img class=\"emoticon emoticon-smile\" src=\"/s/fs63r6/8703/51k4y0/_/images/icons/emoticons/smile.svg\" data-emoticon-name=\"smile\" alt=\"(smile)\" />).</li></ul><h2 id=\"SCAJavaandObjectOrientedProgramming-Resources\">Resources</h2><p>Disclaimer: this is a very preliminary draft list of resources that I'm collecting as I look for other unit content.</p><h3 id=\"SCAJavaandObjectOrientedProgramming-Articles\">Articles</h3><ul><li><a href=\"https://docs.oracle.com/javase/8/docs/\" class=\"external-link\" rel=\"nofollow\">Java Platform components</a></li><li><a href=\"https://www.javaworld.com/article/3114167/development-tools/choosing-your-java-ide.html\" class=\"external-link\" rel=\"nofollow\">Choosing your Java IDE</a></li><li><a href=\"http://www.baeldung.com/java-blogs\" class=\"external-link\" rel=\"nofollow\">Best Java Sites List</a></li><li>...</li></ul><h3 id=\"SCAJavaandObjectOrientedProgramming-Books\">Books</h3><ul><li><a href=\"https://www.amazon.com/Effective-Java-3rd-Joshua-Bloch/dp/0134685997\" class=\"external-link\" rel=\"nofollow\">Effective Java</a> by <span class=\"author notFaded\"> <span class=\"a-declarative\"> <span class=\"a-link-normal contributorNameID\">Joshua Bloch</span></span><span class=\"contribution\"><span class=\"a-declarative\"> </span></span></span></li><li><a href=\"https://www.amazon.com/Clean-Code-Handbook-Software-Craftsmanship/dp/0132350882\" class=\"external-link\" rel=\"nofollow\">Clean Code: A Handbook of Agile Software Craftsmanship</a> by <span class=\"author notFaded\"> <span class=\"a-declarative\"> <span class=\"a-link-normal contributorNameID\">Robert C. Martin</span></span><span class=\"contribution\"><span class=\"a-declarative\"> </span> </span> </span></li><li><a href=\"https://www.amazon.com/Design-Patterns-Elements-Reusable-Object-Oriented/dp/0201633612/ref=pd_sim_14_7\" class=\"external-link\" rel=\"nofollow\">Design Patterns: Elements of Reusable Object-Oriented Software</a> by <span class=\"author notFaded\"> <span class=\"a-declarative\"> <span class=\"a-link-normal contributorNameID\">Erich Gamma</span></span></span></li><li><span class=\"author notFaded\"><span class=\"a-declarative\"><span class=\"a-link-normal contributorNameID\"> </span>... </span><span class=\"contribution\"> </span></span><span class=\"author notFaded\"> </span></li></ul>\n"
     ]
    }
   ],
   "source": [
    "def get_page(page_id):\n",
    "    page = confluence.get_page_by_id(page_id, expand=\"body.view,metadata.labels,ancestors\", status=None, version=None)\n",
    "    return parse_page(page)\n",
    "\n",
    "def parse_page(page):\n",
    "    page_id = int(page['id'])\n",
    "    path = page['_links']['webui']\n",
    "    title = page['title']\n",
    "    body = page['body']['view']['value']\n",
    "    labels = [l['name'] for l in page['metadata']['labels']['results']]\n",
    "    ancestors = [p['title'] for p in page['ancestors']]\n",
    "    return page_id,path,title,body,labels,ancestors\n",
    "\n",
    "def get_link(path):\n",
    "    return \"%s%s\" % (confluence_url, path)\n",
    "    \n",
    "page_id,path,title,body,labels,ancestors = get_page(page_id)\n",
    "print(\"ID:\", page_id)\n",
    "print(\"Path:\", path)\n",
    "print(\"Link:\", get_link(path))\n",
    "print(\"Title:\",title)\n",
    "print(\"Labels:\",labels)\n",
    "print(\"Ancestors:\",ancestors)\n",
    "print(body)"
   ]
  },
  {
   "cell_type": "code",
   "execution_count": 69,
   "id": "48382fdb",
   "metadata": {},
   "outputs": [],
   "source": [
    "page = confluence.get_page_by_title(\"ScientificComputing\", \"Scientific Computing Server - e06u05\", start=None, limit=None, expand=\"metadata.labels,ancestors\")\n",
    "#page"
   ]
  },
  {
   "cell_type": "code",
   "execution_count": 87,
   "id": "4eaed99f",
   "metadata": {},
   "outputs": [
    {
     "name": "stdout",
     "output_type": "stream",
     "text": [
      "Found 183 pages in SCSW\n",
      "Found 238 pages in SCS\n",
      "Found 520 pages in ScientificComputing\n"
     ]
    }
   ],
   "source": [
    "#confluence.get_all_pages_from_space(space, start=0, limit=100, status=None, expand=\"body.view,metadata.labels\", content_type='page')\n",
    "\n",
    "spaces = ['SCSW','SCS','ScientificComputing']\n",
    "limit = 50\n",
    "num_pages = 0\n",
    "\n",
    "for space in spaces:\n",
    "\n",
    "    start = 0\n",
    "    pages = []\n",
    "    while True:\n",
    "        pages_iter = confluence.get_all_pages_from_space(space, start=start, limit=limit, expand=\"body.view,metadata.labels,ancestors\")\n",
    "\n",
    "        if len(pages_iter) == 0:\n",
    "            break\n",
    "\n",
    "        start += len(pages_iter)\n",
    "\n",
    "        for page in pages_iter:\n",
    "            page_id,path,title,body,labels,ancestors = parse_page(page)\n",
    "            \n",
    "            # Skip archived pages\n",
    "            if \"ARCHIVE_SCSW\" in ancestors: continue\n",
    "            \n",
    "            filepath = \"./data/wiki/%s/%d\" % (space,page_id)\n",
    "            os.makedirs(os.path.dirname(filepath), exist_ok=True)\n",
    "        \n",
    "            with open(filepath, mode=\"wt\") as f:\n",
    "                f.write(get_link(path)+\"\\n\")\n",
    "                f.write(\" / \".join(ancestors)+\"\\n\")\n",
    "                f.write(title+\"\\n\")\n",
    "                f.write(\", \".join(labels)+\"\\n\")\n",
    "                f.write(body)\n",
    "                num_pages += 1\n",
    "        \n",
    "        # no more to fetch\n",
    "        if len(pages_iter) < limit:\n",
    "            break\n",
    "\n",
    "    print('Found %d pages in %s' % (num_pages,space))\n"
   ]
  },
  {
   "cell_type": "code",
   "execution_count": null,
   "id": "719be83e",
   "metadata": {},
   "outputs": [],
   "source": []
  }
 ],
 "metadata": {
  "kernelspec": {
   "display_name": "env",
   "language": "python",
   "name": "env"
  },
  "language_info": {
   "codemirror_mode": {
    "name": "ipython",
    "version": 3
   },
   "file_extension": ".py",
   "mimetype": "text/x-python",
   "name": "python",
   "nbconvert_exporter": "python",
   "pygments_lexer": "ipython3",
   "version": "3.9.15"
  }
 },
 "nbformat": 4,
 "nbformat_minor": 5
}
