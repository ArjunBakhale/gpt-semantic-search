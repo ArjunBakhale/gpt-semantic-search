{
 "cells": [
  {
   "cell_type": "code",
   "execution_count": 20,
   "id": "8c46df33",
   "metadata": {},
   "outputs": [
    {
     "data": {
      "text/plain": [
       "{'hostname': 'http://[::]:8080', 'modules': {}, 'version': '1.19.2'}"
      ]
     },
     "execution_count": 20,
     "metadata": {},
     "output_type": "execute_result"
    }
   ],
   "source": [
    "# Verify weviate-client is installed and the database is live and ready\n",
    "import weaviate\n",
    "client = weaviate.Client(\"http://localhost:8080\")\n",
    "assert client.is_live()\n",
    "assert client.is_ready()\n",
    "client.get_meta()"
   ]
  },
  {
   "cell_type": "code",
   "execution_count": 21,
   "id": "f672325d",
   "metadata": {},
   "outputs": [],
   "source": [
    "# !!!! Delete data in Weaviate\n",
    "client.schema.delete_class(\"Wiki_Node\")"
   ]
  },
  {
   "cell_type": "code",
   "execution_count": 22,
   "id": "941363dd",
   "metadata": {},
   "outputs": [],
   "source": [
    "import html2text\n",
    "text_maker = html2text.HTML2Text()\n",
    "text_maker.ignore_links = True\n",
    "text_maker.ignore_images = True\n",
    "\n",
    "def wiki_to_text(ancestors, title, labels, body):\n",
    "    body_text = text_maker.handle(body)\n",
    "    text =  f\"Title: {title}\\n\"\n",
    "    if ancestors: text += f\"Ancestors: {ancestors}\\n\" \n",
    "    if labels: text += f\"Labels: {ancestors}\\n\"\n",
    "    text += f\"{body_text}\"\n",
    "    return text\n"
   ]
  },
  {
   "cell_type": "code",
   "execution_count": 23,
   "id": "a3ac2c92",
   "metadata": {},
   "outputs": [
    {
     "name": "stdout",
     "output_type": "stream",
     "text": [
      "30746710\n",
      "https://wikis.janelia.org/display/ScientificComputing/Scientific+Computing+Server+-+e03u07\n",
      "Title: Scientific Computing Server - e03u07\n",
      "Ancestors: Home / Joint SciComp Systems/Software pages / SCSW Servers\n",
      "Labels: Home / Joint SciComp Systems/Software pages / SCSW Servers\n",
      "Description| JACS Prod Swarm (NEW)  \n",
      "  \n",
      "---|---  \n",
      "OS| OL 9.1  \n",
      "Software| Docker  \n",
      "Hardware| Dell R6515  \n",
      "Cores| 64  \n",
      "RAM (GB)| 128  \n",
      "Disks| 2 x 2TB NVMe in raid1  \n",
      "  \n",
      "Network\n",
      "\n",
      "|\n",
      "\n",
      "Internal  \n",
      "  \n",
      "IP\n",
      "\n",
      "|\n",
      "\n",
      "10.40.2.134  \n",
      "  \n",
      "Canonical name\n",
      "\n",
      "|\n",
      "\n",
      "e03u07.int.janelia.org  \n",
      "  \n",
      "Aliases\n",
      "\n",
      "|\n",
      "\n",
      "  \n",
      "  \n",
      "  \n",
      "POC|\n",
      "\n",
      "Cristian Goina  \n",
      "  \n",
      "Warranty Ends| 2026-07-10  \n",
      "  \n",
      "## Purpose\n",
      "\n",
      "The purpose of the server in greater detail than the short description above.\n",
      "\n",
      "## Software\n",
      "\n",
      "  * List of\n",
      "  * all the\n",
      "  * software installed\n",
      "  * on this server.\n",
      "  * If we had to recreate the server from scratch, what would we need to think about installing?\n",
      "\n",
      "## Configuration\n",
      "\n",
      "Install and configure fuse for s3fs:\n",
      "\n",
      "    \n",
      "    \n",
      "    sudo dnf install s3fs-fuse  \n",
      "    sudo mkdir -p /data/s3/janelia-mouselight-imagery  \n",
      "    sudo chown -R jacs:jacsdata /data/s3  \n",
      "    sudo chmod -R 2775 /data/s3  \n",
      "    sudo sed -e \"s/# user_allow_other/user_allow_other/\" -i /etc/fuse.conf  \n",
      "    sudo mkdir /opt/jacs  \n",
      "    sudo chown -R jacs:jacsdata /opt/jacs  \n",
      "    sudo chmod -R 2775 /opt/jacs  \n",
      "    sudo mkdir /data/jacs  \n",
      "    sudo chown -R jacs:jacsdata /data/jacs  \n",
      "    sudo chmod -R 2775 /data/jacs  \n",
      "    echo \"vm.max_map_count=262144\" | sudo tee -a /etc/sysctl.d/99-sysctl.conf  \n",
      "    sudo sysctl -p  \n",
      "      \n",
      "    \n",
      "\n",
      "\n"
     ]
    }
   ],
   "source": [
    "# Walk cached Wiki pages\n",
    "import os\n",
    "import re\n",
    "n = 0\n",
    "for root, dirs, files in os.walk(\"../data/wiki\"):\n",
    "    for name in files:\n",
    "        filepath = os.path.join(root, name)\n",
    "        with open(filepath) as f:\n",
    "            link = f.readline().rstrip()\n",
    "            ancestors = f.readline().rstrip()\n",
    "            title = f.readline().rstrip()\n",
    "            labels = f.readline().rstrip()\n",
    "            body = re.sub('[\\n]+', '\\n', \"\".join(f.readlines()))\n",
    "            text = wiki_to_text(ancestors, title, labels, body)\n",
    "            if n<1:\n",
    "                print(name)\n",
    "                print(link)\n",
    "                print(text)\n",
    "            n += 1\n"
   ]
  },
  {
   "cell_type": "code",
   "execution_count": 24,
   "id": "1562b8ef",
   "metadata": {},
   "outputs": [
    {
     "name": "stdout",
     "output_type": "stream",
     "text": [
      "Loaded 520 documents\n"
     ]
    }
   ],
   "source": [
    "# Create Documents from cached wiki files\n",
    "from llama_index import Document\n",
    "documents = []\n",
    "for root, dirs, files in os.walk(\"../data/wiki\"):\n",
    "    for name in files:\n",
    "        filepath = os.path.join(root, name)\n",
    "        with open(filepath) as f:\n",
    "            link = f.readline().rstrip()\n",
    "            ancestors = f.readline().rstrip()\n",
    "            title = f.readline().rstrip()\n",
    "            labels = f.readline().rstrip()\n",
    "            body = re.sub('[\\n]+', '\\n', \"\".join(f.readlines()))\n",
    "            text = wiki_to_text(ancestors, title, labels, body)\n",
    "            doc = Document(text, doc_id=name, extra_info={\"title\": title, \"link\": link})\n",
    "            documents.append(doc)\n",
    "\n",
    "print(f\"Loaded {len(documents)} documents\")"
   ]
  },
  {
   "cell_type": "code",
   "execution_count": 25,
   "id": "ae76fae6",
   "metadata": {},
   "outputs": [
    {
     "data": {
      "text/plain": [
       "Document(text='Title: Fly Assistant Jetson Board Setup\\nAncestors: Home / Scientific Computing Software / Technology\\nLabels: Home / Scientific Computing Software / Technology\\n\\n\\nThese are instructions for setting up a new Jetson board and installing/using\\ncustom software for the board.\\n\\n## Flashing TX2 board with Jetpack, Leopard Imaging drivers\\n\\n _Prerequisites:_ Separate Ubuntu PC for flashing Jetson board, Nvidia Jetson\\nTX2 board, Leopard CSI Camera Carrier Board/Kit\\n(https://leopardimaging.com/product/li-jetson-kit-imx185cs-x/)\\n\\n  1. Register for Nvidia Developer Program.\\n  2. Login into your account and download Jetpack 3.2.\\n  3. Follow the install guide to install Jetpack on your Ubuntu machine. \\n    1. **_NOTE:_** _make sure you have \"sudo\" privileges to the file share you are installing the Jetpack to. It\\'s recommended to install to /opt since the Systems group is more likely to give you sudo access to that partition. The installer may ask for root password a few times; it\\'s ok to hit \"cancel\" when it asks since it\\'s not essential to the installation process._\\n  4. Follow the instructions in the install guide to flash the Jetson TX2 board using a USB cable and the board in recovery mode.\\n    1.  _ ** **NOTE:**** Choose \" **Device get IP assigned by DHCP server on host and access Internet via host machine** \" when it comes time to choose the target for installation. You shouldn\\'t have to change the network interface when it queries you. If you are having trouble connecting to the board, type lsusb on the host Ubuntu machine to make sure that the board is connected properly (you should see NVidia as one of the listed USB devices)._ ** **  \\n****\\n\\n    2.  _ ** **NOTE:**** Once the flashing procedure is done, the installer script will get stuck trying to determine the TX2 IP Address. It\\'s safe to close the script window._\\n    3. Because the board is initially unable to automatically get an IP address and the Ubuntu host is usually not on the Janelia Guest Network, it is necessary to use a host that can get on the Guest network to finish up the Jetpack install. \\n    4. One option for MacOS is installing an Ubuntu VirtualBox VM. The VirtualBox VM can then connect to the Jetson TX2 once it\\'s received an IP address. When running the installer a second time, make sure to set the options for \"Flash OS to Target\" to \"No Action\". The installer will then display the following screen.  \\n\\n    5. Enter the IP address of the Jetson board along with the default username/password of nvidia/nvidia. The installation should then complete.  \\n  \\n\\n  5. Once the board has been flashed, follow the Leopard Imaging instructions here to alter the kernel to install camera drivers and flash your TX2 again (should only update the kernel and not completely re-install).\\n  6. Once the flash procedure is complete, login to your TX2 board (default account nvidia/nvidia) and make sure that CUDA-accelerated drivers are working properly by running Visionworks demo at ( **~/VisionWorks-SFM-0.90-Samples/bin/aarch64/linux/release/nvx_sample_sfm** ) that should have been installed during the Flash procedure.\\n\\n## Installing Video Recorder software\\n\\n  1. In order to set up the Jetson Video Grabber application, first install opencv3.4 according to this guide. \\n  2. Make sure opencv static library is linked by editing .bashrc in ~ and adding /usr/local/lib to the LD_LIBRARY_PATH environment variable (You will need to open up another terminal after saving this to load the environment variable).\\n  3. In order to view h.264 encoded videos on the Jetson, install the gstreamer bad plugins.\\n    \\n        sudo apt-get install gstreamer1.0-plugins-bad\\n\\n  1. Once opencv3.4 is installed, download the Jetson software from github at https://github.com/JaneliaSciComp/jetson_fly. \\n    1. In the **video_grabber** directory is the source code for the application. If you need to alter the application, you can install QtCreator and import the .pro file to load and edit the project.\\n    2. The executable for the Video Grabber is \"Jetson_Video_Grabber\". Copy the executable, along with the ir_disable/ir_enable scripts to the target location and run the program (./Jetson_Video_Grabber) to start.\\n\\n## Video Recorder software user guide\\n\\n  1. The Video Recorder provides a simple GUI for capturing video files from CSI cameras attached to the Jetson board. It allows you to set options for resolution, FPS, compression, and IR.\\n    1.  ** _Options_** :\\n      1.  _Save Location_ : Indicates the file location to save the file. The file will be saved as a Quicktime mp4.\\n      2.  _Compression_ : Will apply H.264 compression to the video stream to dramatically shrink the size of the file. Unchecking this will save an uncompressed raw stream.\\n      3.  _IR_ : Checking this will enable the Infrared filter for the CSI camera.\\n    2.  **Preview Button** : Pressing this button will preview what the video recording will look like in a small preview window. Pressing the button a second time will stop the preview.\\n    3.  **Load Options Button** : This will load a user-selected JSON file containing parameters and set the appropriate options automatically. \\n    4. **Save Options Button** : This will save a JSON file with video recorder app options. Clicking this button will allow the user to select the location of this file and proceed to save the current parameters. \\n    5. **Record Button** : Clicking this button will start the video recording. Clicking the button a second time will stop the recording.\\n\\n## Installing Kinefly software\\n\\n  1. First install ROS (Robot Operation System), which sets up libraries for running ROS applications.\\n\\n    \\n    \\n    sudo sh -c \\'echo \"deb http://packages.ros.org/ros/ubuntu $(lsb_release -sc) main\" > /etc/apt/sources.list.d/ros-latest.list\\'\\n    sudo apt-key adv --keyserver hkp://ha.pool.sks-keyservers.net:80 --recv-key 421C365BD9FF1F71s7815A3895523BAEEB01FA116\\n    sudo apt-get update\\n    sudo apt-get install ros-kinetic-desktop-full\\n    sudo rosdep init\\n    rosdep update\\n\\n  1. In order to run Kinefly, you will need to set up the following 3 ROS Apps\\n    1.  **Kinefly ROS app** \\\\- Performs fly wing-tracking on video from a ROS topic. Outputs the wingbeat differential as a service that can be consumed by other ROS apps, either locally or remotely. \\n      1. To install, copy the catkin directory under the github projects ~/jetson_fly/kinefly to /home/nvidia/kinefly/catkin. Navigate to catkin directory in terminal.\\n            \\n                        catkin_make install\\n            cd devel\\n            source setup.bash\\n\\n    2. **Jetson CSI Camera ROS app** \\\\- for live streaming camera as ROS topic\\n      1. To install, copy the catkin directory under the github projects ~/jetson_fly/roscam to /home/nvidia/roscam/catkin. Navigate to catkin directory in terminal.\\n            \\n                        catkin_make install\\n            cd install\\n            source setup.bash\\n            cp ~/roscam/catkin/src/jetson_csi_cam/jetson_csi_cam.launch ~/roscam/catkin/install/share/jetson_csi_cam/\\n\\nAdd \"source ~/roscam/catkin/install/setup.bash\" to /home/nvidia/.bashrc to add\\nenvironmental variables for future ROS commands.\\n\\n    3.  **Video Player ROS app** \\\\- for streaming a pre-recorded video as a ROS topic \\n      1. This app gets installed with the jetson_csi_cam under roscam\\n\\n## Kinefly software user guide\\n\\n  1.  **Kinefly ROS app**\\n    1. First export the RIG you\\'d like to work with; livecam or video\\n        \\n                export RIG=livecam \\n        export RIG=video\\n\\n    2. To run, execute the following command after source the setup.bash file in the devel subdirectory of the catkin workspace. Kinefly will wait for a camera source (executed in a different terminal window) before starting.\\n        \\n                roslaunch Kinefly main.launch\\n\\n  2. **Jetson CSI Camera ROS app**\\n    1. Run the following to start a video topic called csi_cam, which should be picked up by the livecam Kinefly RIG.\\n        \\n                roslaunch jetson_csi_cam jetson_csi_cam.launch\\n\\n  3. **Video Player ROS app**\\n    1. Run the following to start a video topic called videofile, which should be picked up by the video Kinefly RIG.\\n        \\n                roslaunch video_stream_opencv video_file.launch\\n\\n**NOTE:** You can change the video_stream_provider parameter in\\n/home/nvidia/roscam/catkin/install/share/video_stream_opencv/launch/video_file.launch\\nto change the video_file that will be streamed.\\n\\n## Setting up Phidgets Voltage Output board\\n\\n _Prerequisites:_ Phidgets 4-Output board, powered USB hub\\n\\n  1. Install Phidgets 2.2 library using the raw source (follow instructions in README for build sequence).\\n  2. Set up udev permissions for user to access the USB interface of the AO board using instructions located here\\n  3. Download VoltageOutput.cpp test program from here. Also download \"Common\" directory from git repo.\\n  4. Compile test program using following command. Output should be VoltageOutput executable\\n    \\n        g++ -std=c++11 VoltageOutput_Example.cpp ./Common/PhidgetHelperFunctions.c -o VoltageOutput -I./Common -lphidget22 -lpthread -lboost_system\\n\\n  5. Make sure Phidgets board is connected to powered USB hub and plugged into micro USB port of Jetson.\\n  6. Run VoltageOutput executable with parameter for the frequency of the square wave output.\\n\\n## Installing and Running Fictrac software\\n\\n _Prerequisites:_ CSI Camera\\n\\n  1. Install dependency libraries\\n    \\n        sudo apt-get install libnlopt-dev\\n    sudo apt-get install libcairo2\\n    sudo apt-get install libsigc++\\n    sudo apt-get install libcairomm-1.0\\n\\n  2. Install cpp_redis.\\n    \\n        git clone https://github.com/Cylix/cpp_redis.git\\n    cd cpp_redis\\n    git submodule init && git submodule update\\n    mkdir build && cd build\\n    cmake .. -DCMAKE_BUILT_TYPE=Release\\n    make\\n    sudo make install\\n\\n  3. If you would like to use redis, you will need to install and start the redis server.\\n    \\n        wget http://download.redis.io/redis-stable.tar.gz\\n    tar xvf redis-stable.tar.gz\\n    cd redis-stable\\n    make\\n    sudo make-install\\n    redis-server\\n\\n  4. Download fictrac. Download source from github repo here. \\n\\n  5. To install fictrac, create build subdirectory. Navigate to build directory. Run cmake ..\\n  6. After cmake has finished, run make in the build directory to create fictrac executable.\\n  7. Copy sample directory to directory you\\'d like to customize (eg., production).\\n  8. Navigate to custom directory and edit sample_config.txt. Edit according to desired options (cam_input of 1 will configure CSI camera).\\n\\n## Configure Fictrac\\n\\n  1. To run fictrac initially to create the mask and transform files, edit the sample_config.txt and change the following parameters in the file\\n\\n    * do_config 1\\n    * cam_input 1\\n    * #transform_fn (comment out)\\n    * #mask_fn (comment out)\\n    * fps 60\\n    * width 1280\\n    * height 720\\n  2. Navigate to build directory and start fictrac\\n    \\n        ./fictrac ~/<path-to-fictrac>/sample/sample_config.txt\\n\\n  3. Fictrac will start up with an image from the CSI camera and ask you to select the sphere dimensions as well as the mounting square for the fly rig.\\n\\n    1. During the configuration, you can use the following keys to control the sphere dimensions.\\n      * \\'r\\' moves the ellipse right\\n      * \\'l\\' moves the ellipse left\\n      * \\'u\\' moves the ellipse up\\n      * \\'d\\' moves the ellipse down\\n      * \\'z\\' makes the ellipse smaller\\n      * \\'x\\' makes the ellipse larger\\n      * \\'a\\' or \\'Enter\\' accepts the sphere dimensions and moves to the next step\\n      * \\'q\\' quits out of the configuration and cleans up the CSI camera connection.\\n  4. Once the configuration is complete, fictrac will create a some files in the sample directory (usually output_ConfigImg.jpg and output_transform.dat). You can rename these files appropriately.\\n  5. To create a mask file from output_configImg.jpg, run gimp and open this file.\\n    1. Select the Ellipse tool and draw an ellipse over the sphere in the mask.\\n    2. Select the paint bucket tool with option, fill entire selection.\\n    3. Paint the inside of the sphere region white.\\n    4. Go to Select->Inverse and paint the outside of the sphere region black.\\n    5. Go to Image->Mode->Grayscale.\\n    6. Export the file to the same mask file (you can rename at this point).\\n\\n## Run Fictrac Tracker\\n\\nNOTE: You can quit out of fictrac by selecting the terminal window you started\\nfictrac with and press the <ENTER> key to exit gracefully.\\n\\n  1. Once you have the configuration saved, edit the sample_config.txt and change the following parameters in the file\\n\\n  1.     1. load_template 1\\n    2. do_config 0\\n    3. cam_input 1\\n    4. quality_factor 7\\n    5. thresh_ratio 2.7\\n    6. transform_fn <path to transform file from configuration>\\n    7. mask_fn <path to mask file creating during configuration>  \\n\\n  2. Navigate to build directory and start fictrac\\n    \\n        ./fictrac ~/<path-to-fictrac>/sample/sample_config.txt\\n\\n  3. Fictrac will start up confirming some settings and asking you to start. When you press \\'Enter\\', a debug screen will pop up with the actual video, a ROI image, a warped image, an instant map, and an accumulated map. \\n\\n## Configure CSI Camera Options\\n\\n  1. To turn off the IR support on the Leopard Imaging CSI camera, navigate to jetson_fly/video_grabber directory and run the disable script\\n    \\n        ./ir_disable.sh\\n\\n  2. To turn on the IR support on the Leopard Imaging CSI camera, navigate to jetson_fly/video_grabber directory and run the enable script\\n    \\n        ./ir_enable.sh\\n\\n  3. CSI auto mode options (gstreamer nvcamerasrc)\\n    *       * wbmode : White balance affects the color temperature of the photo\\n        * flags: readable, writable\\n        * Enum \"GstNvCamWBMode\" Default: 1, \"auto\"\\n        * (0): off - GST_NVCAM_WB_MODE_OFF\\n        * (1): auto - GST_NVCAM_WB_MODE_AUTO\\n        * (2): incandescent - GST_NVCAM_WB_MODE_INCANDESCENT\\n        * (3): fluorescent - GST_NVCAM_WB_MODE_FLUORESCENT\\n        * (4): warm-fluorescent - GST_NVCAM_WB_MODE_WARM_FLUORESCENT\\n        * (5): daylight - GST_NVCAM_WB_MODE_DAYLIGHT\\n        * (6): cloudy-daylight - GST_NVCAM_WB_MODE_CLOUDY_DAYLIGHT\\n        * (7): twilight - GST_NVCAM_WB_MODE_TWILIGHT\\n        * (8): shade - GST_NVCAM_WB_MODE_SHADE\\n        * (9): manual - GST_NVCAM_WB_MODE_MANUAL\\n      * color-effect : property to set color effect\\n      1.         * flags: readable, writable\\n        * Enum \"GstNvCamColorEffectMode\" Default: 1, \"off\"\\n        * (1): off - GST_NVCAM_COLOR_EFFECT_OFF\\n        * (2): mono - GST_NVCAM_COLOR_EFFECT_MONO\\n        * (3): negative - GST_NVCAM_COLOR_EFFECT_NEGATIVE\\n        * (4): solarize - GST_NVCAM_COLOR_EFFECT_SOLARIZE\\n        * (5): sepia - GST_NVCAM_COLOR_EFFECT_SEPIA\\n        * (6): posterize - GST_NVCAM_COLOR_EFFECT_POSTERIZE\\n        * (7): aqua - GST_NVCAM_COLOR_EFFECT_AQUA\\n      * auto-exposure : property to set auto exposure mode\\n        * flags: readable, writable\\n        * Enum \"GstNvCamAutoExposureMode\" Default: 2, \"on\"\\n        * (1): off - GST_NVCAM_AUTO_EXPOSURE_OFF\\n        * (2): on - GST_NVCAM_AUTO_EXPOSURE_ON\\n        * (3): OnAutoFlash - GST_NVCAM_AUTO_EXPOSURE_AUTOFLASH\\n        * (4): OnAlwaysFlash - GST_NVCAM_AUTO_EXPOSURE_ALWAYSFLASH\\n        * (5): OnFlashRedEye - GST_NVCAM_AUTO_EXPOSURE_AUTO_RED_EYE\\n      * flicker : property to select flicker detection and avoidance mode\\n        * flags: readable, writable\\n        * Enum \"GstNvCamFlickerMode\" Default: 3, \"auto\"\\n        * (0): off - GST_NVCAM_FLICKER_OFF\\n        * (1): 50Hz - GST_NVCAM_FLICKER_50HZ\\n        * (2): 60Hz - GST_NVCAM_FLICKER_60HZ\\n        * (3): auto - GST_NVCAM_FLICKER_AUTO\\n\\n## Configure Flask Webserver\\n\\nThe Flask webserver provides RESTful endpoints for controlling apps on the\\nJetson board remotely. The source code for the app is under the **webserver**\\nsubdirectory in the github repository. A systemctl service for automatically\\nstarting and stopping the flask webserver is located at Flask.service under\\n**webserver**. It assumes a default installation of the **webserver** at\\n/home/nvidia/webserver. If you are putting the flask app somewhere else,\\nchange the service appropriately.\\n\\n  1. To install the webserver and webservice\\n\\n  1.     1. Copy webserver subdirectory to /home/nvidia/webserver.\\n    2. Copy Flask.service to /lib/systemd/system.\\n    3. Install Flask.service with the following command\\n        \\n                sudo systemctl daemon-reload\\n\\n    4. The service is configured to start on os startup, but you can also stop/start the service using the following command.\\n        \\n                sudo systemctl start flask\\n\\n    5. The webserver will start up by default on port 5000.\\n    6. If your apps are located in non-standard locations, you can customize the configuration parameters of the Flask app by editing **config.cfg** under the **auto** subdirectory of **webserver**.\\n    7. The following endpoints are available;\\n    8. Endpoint| Description| Parameters  \\n---|---|---  \\n/fictrac/start| Starts the fictrac app with a default configuration file using\\nthe CSI camera and starts recording output to a folder set by the datetime of\\nthe request. The response from this endpoint will contain the output directory\\nkey that will be needed to retrieve a tarball of the results.| POST to use a\\ntrial_name (Request Body is JSON { \"trial_name\": <name of trial>,  \\n\"display\": \"0<off>/1<on>\"  \\n}), GET to use default values.  \\n  \\n/ficstart/kill| Stops the fictrac process running on the server.|  \\n/fictrac/results| Uses the output directory key to return a tar archive of the\\nresults directory associated with this key.| id=<output_dir_name>, (eg.,\\n/fictrac/results?id=23342333)  \\n/capture| Returns a single camera frame as a jpg from the CSI default camera\\n0|  \\n  \\n\\n', doc_id='30747254', embedding=None, doc_hash='45c544de7a47380e42174da8fbc64a44d4d4536a19e2743fe2633501dcced5e0', extra_info={'title': 'Fly Assistant Jetson Board Setup', 'link': 'https://wikis.janelia.org/display/ScientificComputing/Fly+Assistant+Jetson+Board+Setup'})"
      ]
     },
     "execution_count": 25,
     "metadata": {},
     "output_type": "execute_result"
    }
   ],
   "source": [
    "documents[40]"
   ]
  },
  {
   "cell_type": "code",
   "execution_count": 26,
   "id": "9a4040a7",
   "metadata": {},
   "outputs": [],
   "source": [
    "from llama_index import LLMPredictor, PromptHelper, ServiceContext\n",
    "from langchain.chat_models import ChatOpenAI\n",
    "from langchain.embeddings import OpenAIEmbeddings\n",
    "from llama_index import LangchainEmbedding\n",
    "\n",
    "llm = ChatOpenAI(temperature=0.2, model_name=\"gpt-3.5-turbo-0301\")\n",
    "llm_predictor = LLMPredictor(llm=llm)\n",
    "embed_model = LangchainEmbedding(OpenAIEmbeddings())\n",
    "\n",
    "max_input_size = 4096\n",
    "num_output = 256\n",
    "max_chunk_overlap = 20\n",
    "prompt_helper = PromptHelper(max_input_size, num_output, max_chunk_overlap)\n",
    "\n",
    "service_context = ServiceContext.from_defaults(llm_predictor=llm_predictor, embed_model=embed_model, prompt_helper=prompt_helper)"
   ]
  },
  {
   "cell_type": "code",
   "execution_count": 27,
   "id": "51d776d6",
   "metadata": {},
   "outputs": [],
   "source": [
    "# Calculate embedding for all of the documents and save them into Weaviate\n",
    "from llama_index import GPTVectorStoreIndex\n",
    "from llama_index.vector_stores import WeaviateVectorStore\n",
    "from llama_index.storage.storage_context import StorageContext\n",
    "\n",
    "class_prefix = \"Wiki\"\n",
    "vector_store = WeaviateVectorStore(weaviate_client=client, class_prefix=class_prefix)\n",
    "storage_context = StorageContext.from_defaults(vector_store=vector_store)\n",
    "\n",
    "# persists the vector_store into Weaviate\n",
    "index = GPTVectorStoreIndex.from_documents(documents, storage_context=storage_context, service_context=service_context)\n",
    "\n",
    "# persist the docstore and index_store\n",
    "# this is currently required although in theory Weaviate should be able to handle these as well\n",
    "storage_context.persist(persist_dir='../storage/index')"
   ]
  },
  {
   "cell_type": "code",
   "execution_count": 28,
   "id": "d18caa8a",
   "metadata": {},
   "outputs": [],
   "source": [
    "def get_unique_nodes(nodes):\n",
    "    docs_ids = set()\n",
    "    unique_nodes = list()\n",
    "    for node in nodes:\n",
    "        if node.node.ref_doc_id not in docs_ids:\n",
    "            docs_ids.add(node.node.ref_doc_id)\n",
    "            unique_nodes.append(node)\n",
    "    return unique_nodes\n",
    "        \n",
    "def print_response(response):\n",
    "    print(response.response)    \n",
    "    for node in get_unique_nodes(response.source_nodes):\n",
    "        print(f\"{node.node.extra_info['title']}\")\n",
    "        print(f\"\\t{node.node.extra_info['link']}\")\n",
    "        \n",
    "def query(question, n=5):   \n",
    "    query_engine = index.as_query_engine(similarity_top_k=n)\n",
    "    res = query_engine.query(question)\n",
    "    print_response(res)\n",
    "        "
   ]
  },
  {
   "cell_type": "code",
   "execution_count": 29,
   "id": "dc02620d",
   "metadata": {},
   "outputs": [
    {
     "name": "stdout",
     "output_type": "stream",
     "text": [
      "The new context provided is not related to the original question about the physical server where Nextflow Tower is installed and its potential move. Therefore, the original answer still stands: there are two servers mentioned where Nextflow Tower is installed: c13u05 and nextflow.int.janelia.org, and there is no mention of Nextflow Tower moving to a different physical server.\n",
      "Using Nextflow Tower\n",
      "\thttps://wikis.janelia.org/display/SCSW/Using+Nextflow+Tower\n",
      "Scientific Computing Server - e06u05\n",
      "\thttps://wikis.janelia.org/display/ScientificComputing/Scientific+Computing+Server+-+e06u05\n",
      "Scientific Computing Server - c13u05\n",
      "\thttps://wikis.janelia.org/display/ScientificComputing/Scientific+Computing+Server+-+c13u05\n",
      "Software Infrastructure\n",
      "\thttps://wikis.janelia.org/display/SCSW/Software+Infrastructure\n"
     ]
    }
   ],
   "source": [
    "from llama_index.retrievers import VectorIndexRetriever\n",
    "from llama_index.vector_stores.types import VectorStoreQueryMode\n",
    "from llama_index import ResponseSynthesizer\n",
    "from llama_index.query_engine import RetrieverQueryEngine\n",
    "\n",
    "# configure retriever\n",
    "retriever = VectorIndexRetriever(\n",
    "    index,\n",
    "    similarity_top_k=5,\n",
    "    vector_store_query_mode=VectorStoreQueryMode.HYBRID,\n",
    "    alpha=0.7,\n",
    ")\n",
    "\n",
    "# configure response synthesizer\n",
    "synth = ResponseSynthesizer.from_args()\n",
    "\n",
    "# construct query engine\n",
    "query_engine = RetrieverQueryEngine(\n",
    "    retriever=retriever,\n",
    "    response_synthesizer=synth,\n",
    ")\n",
    "\n",
    "query(\"On what physical server is Nextflow Tower installed, and where will it be moving to?\")"
   ]
  },
  {
   "cell_type": "code",
   "execution_count": 18,
   "id": "4ddf0c76",
   "metadata": {},
   "outputs": [
    {
     "name": "stdout",
     "output_type": "stream",
     "text": [
      "The provided context is not useful for refining the original answer as it does not provide any information about the interest groups sponsored by Scientific Computing. Therefore, the original answer remains the same.\n",
      "Interest Groups\n",
      "\thttps://wikis.janelia.org/display/SCSW/Interest+Groups\n",
      "Scientific Computing Systems\n",
      "\thttps://wikis.janelia.org/display/SCS/Scientific+Computing+Systems\n",
      "High Performance Computing\n",
      "\thttps://wikis.janelia.org/display/SCSW/High+Performance+Computing\n",
      "Open Science Software\n",
      "\thttps://wikis.janelia.org/display/SCSW/Open+Science+Software\n"
     ]
    }
   ],
   "source": [
    "query(\"What interest groups does Scientific Computing sponsor?\")"
   ]
  }
 ],
 "metadata": {
  "kernelspec": {
   "display_name": "Python 3 (ipykernel)",
   "language": "python",
   "name": "python3"
  },
  "language_info": {
   "codemirror_mode": {
    "name": "ipython",
    "version": 3
   },
   "file_extension": ".py",
   "mimetype": "text/x-python",
   "name": "python",
   "nbconvert_exporter": "python",
   "pygments_lexer": "ipython3",
   "version": "3.9.15"
  }
 },
 "nbformat": 4,
 "nbformat_minor": 5
}
