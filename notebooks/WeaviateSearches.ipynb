{
 "cells": [
  {
   "cell_type": "code",
   "execution_count": null,
   "metadata": {},
   "outputs": [],
   "source": [
    "# Verify weviate-client is installed and the database is live and ready\n",
    "import weaviate\n",
    "client = weaviate.Client(\"http://localhost:8080\")\n",
    "assert client.is_live()\n",
    "assert client.is_ready()\n",
    "client.get_meta()"
   ]
  },
  {
   "cell_type": "code",
   "execution_count": null,
   "metadata": {},
   "outputs": [],
   "source": [
    "client.query.get(class_name='Web_Node', properties='doc_id,_node_content').with_limit(5).do()"
   ]
  },
  {
   "cell_type": "code",
   "execution_count": null,
   "metadata": {},
   "outputs": [],
   "source": [
    "\n",
    "where_filter = {\n",
    "  \"path\": [\"doc_id\"],\n",
    "  \"operator\": \"Equal\",\n",
    "  \"valueString\": \"https://www.janelia.org/people/harikrushnan-balasubramanian\"\n",
    "}\n",
    "\n",
    "query_result = (\n",
    "  client.query\n",
    "  .get(class_name='Web_Node', properties=\"doc_id,_node_content,text\").with_additional([\"id\", \"vector\",\"distance\"])\n",
    "  .with_where(where_filter)\n",
    "  .do()\n",
    ")\n",
    "\n",
    "query_result\n"
   ]
  },
  {
   "cell_type": "code",
   "execution_count": null,
   "metadata": {},
   "outputs": [],
   "source": [
    "from langchain.embeddings import OpenAIEmbeddings\n",
    "from llama_index.legacy import LangchainEmbedding\n",
    "\n",
    "query = \"Who is the director of Scientific Computing?\"\n",
    "\n",
    "\n",
    "embed_model = LangchainEmbedding(OpenAIEmbeddings())\n",
    "vector = embed_model.get_query_embedding(query)\n",
    "class_name = 'Test_Node'\n",
    "query_result = (\n",
    "    client.query\n",
    "    .get(class_name=class_name, properties=\"doc_id,extra_info,text\")\n",
    "    .with_additional(\"distance\")\n",
    "    .with_near_vector({\"vector\": vector})\n",
    "    .with_limit(50)\n",
    "    .do()\n",
    ")\n",
    "\n",
    "docs = query_result['data']['Get'][class_name]\n",
    "print(f\"Found {len(docs)} results\")\n",
    "for doc in docs:\n",
    "    distance = doc['_additional']['distance']\n",
    "    print(\"---------\")\n",
    "    print(distance)\n",
    "    print(doc['text'])\n",
    "\n"
   ]
  },
  {
   "cell_type": "code",
   "execution_count": null,
   "metadata": {},
   "outputs": [],
   "source": [
    "\n",
    "additional_clause = {\n",
    "  \"featureProjection\": [\n",
    "    \"vector\"\n",
    "  ]\n",
    "}\n",
    "additional_setting = {\n",
    "  \"dimensions\": 2\n",
    "}\n",
    "\n",
    "query_result = (\n",
    "  client.query\n",
    "  .get('Wiki_Node', \"doc_id,extra_info,text\")\n",
    "  .with_near_vector({\"vector\": vector})\n",
    "  .with_limit(5)\n",
    "  .with_additional(\n",
    "    (additional_clause, additional_setting)\n",
    "  )\n",
    "  .do()\n",
    ")\n",
    "print(query_result)"
   ]
  },
  {
   "cell_type": "code",
   "execution_count": null,
   "metadata": {},
   "outputs": [],
   "source": [
    "from langchain.embeddings import OpenAIEmbeddings\n",
    "from llama_index.legacy import LangchainEmbedding\n",
    "\n",
    "embed_model = LangchainEmbedding(OpenAIEmbeddings())\n",
    "vector = embed_model.get_query_embedding(\"How do I run MATLAB on the cluster?\")\n",
    "\n",
    "\n",
    "query_result = (\n",
    "    client.query\n",
    "    .get(class_name='Slack_Node', properties=\"text\")\n",
    "    .with_near_vector({\"vector\": vector})\n",
    "    .with_limit(5)\n",
    "    .do()\n",
    ")\n",
    "\n",
    "query_result"
   ]
  },
  {
   "cell_type": "code",
   "execution_count": null,
   "metadata": {},
   "outputs": [],
   "source": [
    "\n",
    "query = \"Singapore\"\n",
    "query_result = (\n",
    "    client.query\n",
    "    .get(class_name='Web_Node', properties=\"text\")\n",
    "    .with_bm25(query=query)\n",
    "    .with_limit(1)\n",
    "    .do()\n",
    ")\n",
    "print(query_result)\n",
    "print()\n",
    "\n",
    "query = \"ipalm\"\n",
    "query_result = (\n",
    "    client.query\n",
    "    .get(class_name='Web_Node', properties=\"text,link,title\")\n",
    "    .with_bm25(query=query)\n",
    "    .with_limit(10)\n",
    "    .do()\n",
    ")\n",
    "results = query_result['data']['Get']['Web_Node']\n",
    "print(f\"{len(results)} results found\")\n",
    "for result in results:\n",
    "    print(result)\n"
   ]
  },
  {
   "cell_type": "code",
   "execution_count": null,
   "metadata": {},
   "outputs": [],
   "source": []
  },
  {
   "cell_type": "code",
   "execution_count": null,
   "metadata": {},
   "outputs": [],
   "source": [
    "from langchain.embeddings import OpenAIEmbeddings\n",
    "from llama_index.legacy import LangchainEmbedding\n",
    "\n",
    "query = \"Who is from Singapore?\"\n",
    "embed_model = LangchainEmbedding(OpenAIEmbeddings())\n",
    "vector = embed_model.get_query_embedding(query)\n",
    "query_result = (\n",
    "    client.query\n",
    "    .get(class_name='Web_Node', properties=\"doc_id,text,title\")\n",
    "    .with_hybrid(query=query,vector=vector,alpha=0.50,properties=[\"text\"])\n",
    "    .with_limit(3)\n",
    "    .do()\n",
    ")\n",
    "\n",
    "query_result"
   ]
  },
  {
   "cell_type": "code",
   "execution_count": null,
   "metadata": {},
   "outputs": [],
   "source": [
    "query = \"flatpak\"\n",
    "query_result = (\n",
    "    client.query\n",
    "    .get(class_name='Slack_Node', properties=\"text\")\n",
    "    .with_bm25(query=query)\n",
    "    .with_limit(5)\n",
    "    .do()\n",
    ")\n",
    "\n",
    "query_result"
   ]
  },
  {
   "cell_type": "code",
   "execution_count": null,
   "metadata": {},
   "outputs": [],
   "source": [
    "client.schema.get(\"Web_Node\")"
   ]
  },
  {
   "cell_type": "code",
   "execution_count": null,
   "metadata": {},
   "outputs": [],
   "source": [
    "from datetime import datetime\n",
    "\n",
    "query_result = (\n",
    "    client.query\n",
    "    .get(class_name='SurveyResponses', properties=[\"query\",\"survey\"],)\n",
    "    .with_limit(5)\n",
    "    .with_additional(['creationTimeUnix'])\n",
    "    .do()\n",
    ")\n",
    "\n",
    "arr = query_result['data']['Get']['SurveyResponses']\n",
    "\n",
    "for obj in arr:\n",
    "    timestamp = int(obj['_additional']['creationTimeUnix']) / 1000.0\n",
    "    date = datetime.fromtimestamp(timestamp)\n",
    "    print(date.strftime(\"%Y-%m-%d %I:%M %p\"))\n",
    "    print(f\"{obj['survey']} - {obj['query']}\")\n"
   ]
  },
  {
   "cell_type": "code",
   "execution_count": null,
   "metadata": {},
   "outputs": [],
   "source": [
    "# select object based on some criteria\n",
    "\n",
    "where_filter = {\n",
    "  \"path\": [\"source\"],\n",
    "  \"operator\": \"Equal\",\n",
    "  \"valueString\": \"Slack\"\n",
    "}\n",
    "query_result = (\n",
    "  client.query\n",
    "  .get(class_name='Janelia_Node', properties=\"doc_id,_node_content,text\").with_additional([\"id\", \"vector\",\"distance\"])\n",
    "  .with_where(where_filter)\n",
    "  .do()\n",
    ")\n",
    "\n",
    "query_result\n"
   ]
  },
  {
   "cell_type": "code",
   "execution_count": null,
   "metadata": {},
   "outputs": [],
   "source": [
    "# delete objects based on some criteria\n",
    "\n",
    "result = (\n",
    "    client.batch.delete_objects(\n",
    "        class_name='Janelia_Node',\n",
    "        where={\n",
    "            'path': ['source'],\n",
    "            'operator': 'Equal',\n",
    "            'valueText': 'Wiki'\n",
    "        },\n",
    "        dry_run=True,\n",
    "        output='verbose'\n",
    "    )\n",
    ")\n",
    "\n",
    "result"
   ]
  },
  {
   "cell_type": "code",
   "execution_count": null,
   "metadata": {},
   "outputs": [],
   "source": [
    "\n",
    "query_result = (\n",
    "  client.query\n",
    "  .get(class_name='Slack_Node', properties=\"doc_id,channel,ts\")\n",
    "  #.with_additional([\"id\", \"vector\"])\n",
    "  .with_additional([\"id\",\"creationTimeUnix\",\"lastUpdateTimeUnix\",\"vector\"])\n",
    "  .do()\n",
    ")\n",
    "\n",
    "query_result\n"
   ]
  },
  {
   "cell_type": "code",
   "execution_count": null,
   "metadata": {},
   "outputs": [],
   "source": []
  }
 ],
 "metadata": {
  "kernelspec": {
   "display_name": "Python 3 (ipykernel)",
   "language": "python",
   "name": "python3"
  },
  "language_info": {
   "codemirror_mode": {
    "name": "ipython",
    "version": 3
   },
   "file_extension": ".py",
   "mimetype": "text/x-python",
   "name": "python",
   "nbconvert_exporter": "python",
   "pygments_lexer": "ipython3",
   "version": "3.12.4"
  }
 },
 "nbformat": 4,
 "nbformat_minor": 2
}
