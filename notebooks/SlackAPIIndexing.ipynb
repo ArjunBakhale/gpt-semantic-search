{
 "cells": [
  {
   "cell_type": "code",
   "execution_count": null,
   "id": "4fa2da29",
   "metadata": {},
   "outputs": [],
   "source": [
    "import os "
   ]
  },
  {
   "cell_type": "code",
   "execution_count": 2,
   "id": "7279d1a3",
   "metadata": {},
   "outputs": [
    {
     "ename": "KeyError",
     "evalue": "'error'",
     "output_type": "error",
     "traceback": [
      "\u001b[0;31m---------------------------------------------------------------------------\u001b[0m",
      "\u001b[0;31mJSONDecodeError\u001b[0m                           Traceback (most recent call last)",
      "File \u001b[0;32m~/dev/gpt-semantic-search/env/lib/python3.9/site-packages/slack_sdk/web/base_client.py:299\u001b[0m, in \u001b[0;36mBaseClient._urllib_api_call\u001b[0;34m(self, token, url, query_params, json_body, body_params, files, additional_headers)\u001b[0m\n\u001b[1;32m    298\u001b[0m \u001b[38;5;28;01mtry\u001b[39;00m:\n\u001b[0;32m--> 299\u001b[0m     response_body_data \u001b[38;5;241m=\u001b[39m \u001b[43mjson\u001b[49m\u001b[38;5;241;43m.\u001b[39;49m\u001b[43mloads\u001b[49m\u001b[43m(\u001b[49m\u001b[43mresponse\u001b[49m\u001b[43m[\u001b[49m\u001b[38;5;124;43m\"\u001b[39;49m\u001b[38;5;124;43mbody\u001b[39;49m\u001b[38;5;124;43m\"\u001b[39;49m\u001b[43m]\u001b[49m\u001b[43m)\u001b[49m\n\u001b[1;32m    300\u001b[0m \u001b[38;5;28;01mexcept\u001b[39;00m json\u001b[38;5;241m.\u001b[39mdecoder\u001b[38;5;241m.\u001b[39mJSONDecodeError:\n",
      "File \u001b[0;32m~/opt/miniconda3/lib/python3.9/json/__init__.py:346\u001b[0m, in \u001b[0;36mloads\u001b[0;34m(s, cls, object_hook, parse_float, parse_int, parse_constant, object_pairs_hook, **kw)\u001b[0m\n\u001b[1;32m    343\u001b[0m \u001b[38;5;28;01mif\u001b[39;00m (\u001b[38;5;28mcls\u001b[39m \u001b[38;5;129;01mis\u001b[39;00m \u001b[38;5;28;01mNone\u001b[39;00m \u001b[38;5;129;01mand\u001b[39;00m object_hook \u001b[38;5;129;01mis\u001b[39;00m \u001b[38;5;28;01mNone\u001b[39;00m \u001b[38;5;129;01mand\u001b[39;00m\n\u001b[1;32m    344\u001b[0m         parse_int \u001b[38;5;129;01mis\u001b[39;00m \u001b[38;5;28;01mNone\u001b[39;00m \u001b[38;5;129;01mand\u001b[39;00m parse_float \u001b[38;5;129;01mis\u001b[39;00m \u001b[38;5;28;01mNone\u001b[39;00m \u001b[38;5;129;01mand\u001b[39;00m\n\u001b[1;32m    345\u001b[0m         parse_constant \u001b[38;5;129;01mis\u001b[39;00m \u001b[38;5;28;01mNone\u001b[39;00m \u001b[38;5;129;01mand\u001b[39;00m object_pairs_hook \u001b[38;5;129;01mis\u001b[39;00m \u001b[38;5;28;01mNone\u001b[39;00m \u001b[38;5;129;01mand\u001b[39;00m \u001b[38;5;129;01mnot\u001b[39;00m kw):\n\u001b[0;32m--> 346\u001b[0m     \u001b[38;5;28;01mreturn\u001b[39;00m \u001b[43m_default_decoder\u001b[49m\u001b[38;5;241;43m.\u001b[39;49m\u001b[43mdecode\u001b[49m\u001b[43m(\u001b[49m\u001b[43ms\u001b[49m\u001b[43m)\u001b[49m\n\u001b[1;32m    347\u001b[0m \u001b[38;5;28;01mif\u001b[39;00m \u001b[38;5;28mcls\u001b[39m \u001b[38;5;129;01mis\u001b[39;00m \u001b[38;5;28;01mNone\u001b[39;00m:\n",
      "File \u001b[0;32m~/opt/miniconda3/lib/python3.9/json/decoder.py:337\u001b[0m, in \u001b[0;36mJSONDecoder.decode\u001b[0;34m(self, s, _w)\u001b[0m\n\u001b[1;32m    333\u001b[0m \u001b[38;5;250m\u001b[39m\u001b[38;5;124;03m\"\"\"Return the Python representation of ``s`` (a ``str`` instance\u001b[39;00m\n\u001b[1;32m    334\u001b[0m \u001b[38;5;124;03mcontaining a JSON document).\u001b[39;00m\n\u001b[1;32m    335\u001b[0m \n\u001b[1;32m    336\u001b[0m \u001b[38;5;124;03m\"\"\"\u001b[39;00m\n\u001b[0;32m--> 337\u001b[0m obj, end \u001b[38;5;241m=\u001b[39m \u001b[38;5;28;43mself\u001b[39;49m\u001b[38;5;241;43m.\u001b[39;49m\u001b[43mraw_decode\u001b[49m\u001b[43m(\u001b[49m\u001b[43ms\u001b[49m\u001b[43m,\u001b[49m\u001b[43m \u001b[49m\u001b[43midx\u001b[49m\u001b[38;5;241;43m=\u001b[39;49m\u001b[43m_w\u001b[49m\u001b[43m(\u001b[49m\u001b[43ms\u001b[49m\u001b[43m,\u001b[49m\u001b[43m \u001b[49m\u001b[38;5;241;43m0\u001b[39;49m\u001b[43m)\u001b[49m\u001b[38;5;241;43m.\u001b[39;49m\u001b[43mend\u001b[49m\u001b[43m(\u001b[49m\u001b[43m)\u001b[49m\u001b[43m)\u001b[49m\n\u001b[1;32m    338\u001b[0m end \u001b[38;5;241m=\u001b[39m _w(s, end)\u001b[38;5;241m.\u001b[39mend()\n",
      "File \u001b[0;32m~/opt/miniconda3/lib/python3.9/json/decoder.py:355\u001b[0m, in \u001b[0;36mJSONDecoder.raw_decode\u001b[0;34m(self, s, idx)\u001b[0m\n\u001b[1;32m    354\u001b[0m \u001b[38;5;28;01mexcept\u001b[39;00m \u001b[38;5;167;01mStopIteration\u001b[39;00m \u001b[38;5;28;01mas\u001b[39;00m err:\n\u001b[0;32m--> 355\u001b[0m     \u001b[38;5;28;01mraise\u001b[39;00m JSONDecodeError(\u001b[38;5;124m\"\u001b[39m\u001b[38;5;124mExpecting value\u001b[39m\u001b[38;5;124m\"\u001b[39m, s, err\u001b[38;5;241m.\u001b[39mvalue) \u001b[38;5;28;01mfrom\u001b[39;00m \u001b[38;5;28;01mNone\u001b[39;00m\n\u001b[1;32m    356\u001b[0m \u001b[38;5;28;01mreturn\u001b[39;00m obj, end\n",
      "\u001b[0;31mJSONDecodeError\u001b[0m: Expecting value: line 1 column 1 (char 0)",
      "\nDuring handling of the above exception, another exception occurred:\n",
      "\u001b[0;31mSlackApiError\u001b[0m                             Traceback (most recent call last)",
      "File \u001b[0;32m~/dev/gpt-semantic-search/env/lib/python3.9/site-packages/llama_index/readers/slack.py:141\u001b[0m, in \u001b[0;36mSlackReader._read_channel\u001b[0;34m(self, channel_id, reverse_chronological)\u001b[0m\n\u001b[1;32m    138\u001b[0m     conversations_history_kwargs[\u001b[38;5;124m\"\u001b[39m\u001b[38;5;124moldest\u001b[39m\u001b[38;5;124m\"\u001b[39m] \u001b[38;5;241m=\u001b[39m \u001b[38;5;28mstr\u001b[39m(\n\u001b[1;32m    139\u001b[0m         \u001b[38;5;28mself\u001b[39m\u001b[38;5;241m.\u001b[39mearliest_date_timestamp\n\u001b[1;32m    140\u001b[0m     )\n\u001b[0;32m--> 141\u001b[0m result \u001b[38;5;241m=\u001b[39m \u001b[38;5;28;43mself\u001b[39;49m\u001b[38;5;241;43m.\u001b[39;49m\u001b[43mclient\u001b[49m\u001b[38;5;241;43m.\u001b[39;49m\u001b[43mconversations_history\u001b[49m\u001b[43m(\u001b[49m\n\u001b[1;32m    142\u001b[0m \u001b[43m    \u001b[49m\u001b[38;5;241;43m*\u001b[39;49m\u001b[38;5;241;43m*\u001b[39;49m\u001b[43mconversations_history_kwargs\u001b[49m\u001b[43m  \u001b[49m\u001b[38;5;66;43;03m# type: ignore\u001b[39;49;00m\n\u001b[1;32m    143\u001b[0m \u001b[43m\u001b[49m\u001b[43m)\u001b[49m\n\u001b[1;32m    144\u001b[0m conversation_history \u001b[38;5;241m=\u001b[39m result[\u001b[38;5;124m\"\u001b[39m\u001b[38;5;124mmessages\u001b[39m\u001b[38;5;124m\"\u001b[39m]\n",
      "File \u001b[0;32m~/dev/gpt-semantic-search/env/lib/python3.9/site-packages/slack_sdk/web/client.py:2488\u001b[0m, in \u001b[0;36mWebClient.conversations_history\u001b[0;34m(self, channel, cursor, inclusive, include_all_metadata, latest, limit, oldest, **kwargs)\u001b[0m\n\u001b[1;32m   2477\u001b[0m kwargs\u001b[38;5;241m.\u001b[39mupdate(\n\u001b[1;32m   2478\u001b[0m     {\n\u001b[1;32m   2479\u001b[0m         \u001b[38;5;124m\"\u001b[39m\u001b[38;5;124mchannel\u001b[39m\u001b[38;5;124m\"\u001b[39m: channel,\n\u001b[0;32m   (...)\u001b[0m\n\u001b[1;32m   2486\u001b[0m     }\n\u001b[1;32m   2487\u001b[0m )\n\u001b[0;32m-> 2488\u001b[0m \u001b[38;5;28;01mreturn\u001b[39;00m \u001b[38;5;28;43mself\u001b[39;49m\u001b[38;5;241;43m.\u001b[39;49m\u001b[43mapi_call\u001b[49m\u001b[43m(\u001b[49m\u001b[38;5;124;43m\"\u001b[39;49m\u001b[38;5;124;43mconversations.history\u001b[39;49m\u001b[38;5;124;43m\"\u001b[39;49m\u001b[43m,\u001b[49m\u001b[43m \u001b[49m\u001b[43mhttp_verb\u001b[49m\u001b[38;5;241;43m=\u001b[39;49m\u001b[38;5;124;43m\"\u001b[39;49m\u001b[38;5;124;43mGET\u001b[39;49m\u001b[38;5;124;43m\"\u001b[39;49m\u001b[43m,\u001b[49m\u001b[43m \u001b[49m\u001b[43mparams\u001b[49m\u001b[38;5;241;43m=\u001b[39;49m\u001b[43mkwargs\u001b[49m\u001b[43m)\u001b[49m\n",
      "File \u001b[0;32m~/dev/gpt-semantic-search/env/lib/python3.9/site-packages/slack_sdk/web/base_client.py:156\u001b[0m, in \u001b[0;36mBaseClient.api_call\u001b[0;34m(self, api_method, http_verb, files, data, params, json, headers, auth)\u001b[0m\n\u001b[1;32m    155\u001b[0m show_2020_01_deprecation(api_method)\n\u001b[0;32m--> 156\u001b[0m \u001b[38;5;28;01mreturn\u001b[39;00m \u001b[38;5;28;43mself\u001b[39;49m\u001b[38;5;241;43m.\u001b[39;49m\u001b[43m_sync_send\u001b[49m\u001b[43m(\u001b[49m\u001b[43mapi_url\u001b[49m\u001b[38;5;241;43m=\u001b[39;49m\u001b[43mapi_url\u001b[49m\u001b[43m,\u001b[49m\u001b[43m \u001b[49m\u001b[43mreq_args\u001b[49m\u001b[38;5;241;43m=\u001b[39;49m\u001b[43mreq_args\u001b[49m\u001b[43m)\u001b[49m\n",
      "File \u001b[0;32m~/dev/gpt-semantic-search/env/lib/python3.9/site-packages/slack_sdk/web/base_client.py:187\u001b[0m, in \u001b[0;36mBaseClient._sync_send\u001b[0;34m(self, api_url, req_args)\u001b[0m\n\u001b[1;32m    185\u001b[0m     body_params\u001b[38;5;241m.\u001b[39mupdate(data)\n\u001b[0;32m--> 187\u001b[0m \u001b[38;5;28;01mreturn\u001b[39;00m \u001b[38;5;28;43mself\u001b[39;49m\u001b[38;5;241;43m.\u001b[39;49m\u001b[43m_urllib_api_call\u001b[49m\u001b[43m(\u001b[49m\n\u001b[1;32m    188\u001b[0m \u001b[43m    \u001b[49m\u001b[43mtoken\u001b[49m\u001b[38;5;241;43m=\u001b[39;49m\u001b[43mtoken\u001b[49m\u001b[43m,\u001b[49m\n\u001b[1;32m    189\u001b[0m \u001b[43m    \u001b[49m\u001b[43murl\u001b[49m\u001b[38;5;241;43m=\u001b[39;49m\u001b[43mapi_url\u001b[49m\u001b[43m,\u001b[49m\n\u001b[1;32m    190\u001b[0m \u001b[43m    \u001b[49m\u001b[43mquery_params\u001b[49m\u001b[38;5;241;43m=\u001b[39;49m\u001b[43m{\u001b[49m\u001b[43m}\u001b[49m\u001b[43m,\u001b[49m\n\u001b[1;32m    191\u001b[0m \u001b[43m    \u001b[49m\u001b[43mbody_params\u001b[49m\u001b[38;5;241;43m=\u001b[39;49m\u001b[43mbody_params\u001b[49m\u001b[43m,\u001b[49m\n\u001b[1;32m    192\u001b[0m \u001b[43m    \u001b[49m\u001b[43mfiles\u001b[49m\u001b[38;5;241;43m=\u001b[39;49m\u001b[43mfiles\u001b[49m\u001b[43m,\u001b[49m\n\u001b[1;32m    193\u001b[0m \u001b[43m    \u001b[49m\u001b[43mjson_body\u001b[49m\u001b[38;5;241;43m=\u001b[39;49m\u001b[43m_json\u001b[49m\u001b[43m,\u001b[49m\n\u001b[1;32m    194\u001b[0m \u001b[43m    \u001b[49m\u001b[43madditional_headers\u001b[49m\u001b[38;5;241;43m=\u001b[39;49m\u001b[43mheaders\u001b[49m\u001b[43m,\u001b[49m\n\u001b[1;32m    195\u001b[0m \u001b[43m\u001b[49m\u001b[43m)\u001b[49m\n",
      "File \u001b[0;32m~/dev/gpt-semantic-search/env/lib/python3.9/site-packages/slack_sdk/web/base_client.py:302\u001b[0m, in \u001b[0;36mBaseClient._urllib_api_call\u001b[0;34m(self, token, url, query_params, json_body, body_params, files, additional_headers)\u001b[0m\n\u001b[1;32m    301\u001b[0m         message \u001b[38;5;241m=\u001b[39m _build_unexpected_body_error_message(response\u001b[38;5;241m.\u001b[39mget(\u001b[38;5;124m\"\u001b[39m\u001b[38;5;124mbody\u001b[39m\u001b[38;5;124m\"\u001b[39m, \u001b[38;5;124m\"\u001b[39m\u001b[38;5;124m\"\u001b[39m))\n\u001b[0;32m--> 302\u001b[0m         \u001b[38;5;28;01mraise\u001b[39;00m err\u001b[38;5;241m.\u001b[39mSlackApiError(message, response)\n\u001b[1;32m    304\u001b[0m all_params: Dict[\u001b[38;5;28mstr\u001b[39m, Any] \u001b[38;5;241m=\u001b[39m copy\u001b[38;5;241m.\u001b[39mcopy(body_params) \u001b[38;5;28;01mif\u001b[39;00m body_params \u001b[38;5;129;01mis\u001b[39;00m \u001b[38;5;129;01mnot\u001b[39;00m \u001b[38;5;28;01mNone\u001b[39;00m \u001b[38;5;28;01melse\u001b[39;00m {}\n",
      "\u001b[0;31mSlackApiError\u001b[0m: Received a response in a non-JSON format: <!DOCTYPE html><html lang=\"en\"><head><meta charset=\"utf-8\"><title>Server Error | Slack</title><meta ...\nThe server responded with: {'status': 503, 'headers': {'x-edge-backend': 'envoy-www', 'access-control-allow-credentials': 'true', 'access-control-allow-headers': 'slack-route, x-slack-version-ts, x-b3-traceid, x-b3-spanid, x-b3-parentspanid, x-b3-sampled, x-b3-flags', 'access-control-expose-headers': 'x-slack-req-id, retry-after', 'cache-control': 'no-cache', 'content-length': '7337', 'content-type': 'text/html; charset=utf-8', 'x-slack-edge-shared-secret-outcome': 'no-match', 'date': 'Sun, 09 Jul 2023 20:23:56 GMT', 'server': 'envoy', 'via': 'envoy-edge-iad-rnadqsyj', 'connection': 'close'}, 'body': '<!DOCTYPE html>\\n<html lang=\"en\">\\n<head>\\n\\t<meta charset=\"utf-8\">\\n\\t<title>Server Error | Slack</title>\\n\\t<meta name=\"author\" content=\"Slack\">\\n\\t<style>\\n\\t\\t/* General */\\n\\t\\t@font-face {\\n\\t\\t\\tfont-family: \\'Slack-Lato\\';\\n\\t\\t\\tfont-style: normal;\\n\\t\\t\\tfont-weight: 400;\\n\\t\\t\\tsrc: local(\\'☺\\'), url(https://slack.global.ssl.fastly.net/9d38d/fonts/lato-1-compressed/lato-regular.woff2) format(\\'woff2\\'), url(https://slack.global.ssl.fastly.net/eb80/fonts/lato-1/lato-regular.woff) format(\\'woff\\');\\n\\t\\t}\\n\\t\\t@font-face {\\n\\t\\t\\tfont-family: \\'Slack-Lato\\';\\n\\t\\t\\tfont-style: normal;\\n\\t\\t\\tfont-weight: 700;\\n\\t\\t\\tsrc: local(\\'☺\\'), url(https://slack.global.ssl.fastly.net/9d38d/fonts/lato-1-compressed/lato-bold.woff2) format(\\'woff2\\'), url(https://slack.global.ssl.fastly.net/eb80/fonts/lato-1/lato-bold.woff) format(\\'woff\\');\\n\\t\\t}\\n\\n\\t\\t* {\\n\\t\\t\\t-ms-box-sizing: border-box;\\n\\t\\t\\t-moz-box-sizing: border-box;\\n\\t\\t\\t-webkit-box-sizing: border-box;\\n\\t\\t\\tbox-sizing: border-box;\\n\\t\\t}\\n\\t\\thtml, body {\\n\\t\\t\\twidth: 100%;\\n\\t\\t\\toverflow-x: hidden;\\n\\t\\t}\\n\\t\\thtml.desktop {\\n\\t\\t\\tmargin-top: 30px;\\n\\t\\t}\\n\\t\\tbody {\\n\\t\\t\\tmargin: 0;\\n\\t\\t\\tfont-family: \\'Slack-Lato\\', sans-serif;\\n\\t\\t\\tfont-variant-ligatures: common-ligatures;\\n\\t\\t\\t-webkit-font-smoothing: antialiased;\\n\\t\\t\\t-moz-osx-font-smoothing: grayscale;\\n\\t\\t\\tcolor: #555459;\\n\\t\\t\\tfont-size: 1.125rem;\\n\\t\\t\\tline-height: 1.5rem;\\n\\t\\t\\tbackground: #f9f9f9;\\n\\t\\t}\\n\\n\\t\\ta, a:link, a:visited {\\n\\t\\t\\tcolor: #3aa3e3;\\n\\t\\t\\ttext-decoration: none;\\n\\t\\t}\\n\\n\\t\\th1 {\\n\\t\\t\\tfont-size: 2rem;\\n\\t\\t\\tline-height: 2.5rem;\\n\\t\\t\\tletter-spacing: -1px;\\n\\t\\t\\tfont-weight: 700;\\n\\t\\t\\tfont-family: \\'Slack-Lato\\', sans-serif;\\n\\t\\t\\tmargin: 0 0 1rem 0;\\n\\t\\t}\\n\\t\\t@media only screen and (max-width: 640px) {\\n\\t\\t\\th1 {\\n\\t\\t\\t\\tfont-size: 1.75rem;\\n\\t\\t\\t\\tline-height: 2rem;\\n\\t\\t\\t}\\n\\t\\t}\\n\\n\\t\\tp {\\n\\t\\t\\tmargin: 0 0 1rem 0;\\n\\t\\t}\\n\\n\\t\\t/* Page */\\n\\t\\t#page {\\n\\t\\t\\twidth: 100%;\\n\\t\\t\\ttop: 0;\\n\\t\\t\\tleft: 0;\\n\\t\\t\\tbottom: 0;\\n\\t\\t\\tright: 0;\\n\\t\\t}\\n\\t\\t#page_contents {\\n\\t\\t\\tmargin: 0 auto;\\n\\t\\t\\tpadding: 8rem 2rem;\\n\\t\\t}\\n\\t\\t@media only screen and (max-height: 768px), screen and (max-width: 640px) {\\n\\t\\t\\t#page_contents {\\n\\t\\t\\t\\tpadding: 6rem 2rem;\\n\\t\\t\\t}\\n\\t\\t}\\n\\t\\t@media only screen and (min-width: 1024px) {\\n\\t\\t\\t#page_contents {\\n\\t\\t\\t\\twidth: 1024px;\\n\\t\\t\\t}\\n\\t\\t}\\n\\t\\t@media only screen and (max-width: 640px) {\\n\\t\\t\\t#page_contents {\\n\\t\\t\\t\\twidth: 100%;\\n\\t\\t\\t\\tpadding: 1rem 0.8rem;\\n\\t\\t\\t\\tmargin-top: 70px;\\n\\t\\t\\t}\\n\\t\\t}\\n\\n\\t\\t/* Top nav */\\n\\t\\tnav.top.persistent, nav.top.with_color {\\n\\t\\t\\tbackground: #fff;\\n\\t\\t\\tbox-shadow: 0 1px 1px rgba(0, 0, 0, 0.1);\\n\\t\\t}\\n\\t\\tnav.top {\\n\\t\\t\\tposition: fixed;\\n\\t\\t\\ttop: 0;\\n\\t\\t\\twidth: 100%;\\n\\t\\t\\theight: 70px;\\n\\t\\t\\tz-index: 99;\\n\\t\\t}\\n\\t\\thtml.desktop nav.top {\\n\\t\\t\\tpadding-top: 30px;\\n\\t\\t\\theight: 100px;\\n\\t\\t}\\n\\t\\tnav.top.persistent .logo, nav.top.with_color .logo {\\n\\t\\t\\tbackground-position: left bottom;\\n\\t\\t}\\n\\t\\tnav .logo {\\n\\t\\t\\tbackground-size: 120px 31px;\\n\\t\\t\\theight: 31px;\\n\\t\\t\\twidth: 120px;\\n\\t\\t\\tfloat: left;\\n\\t\\t\\tmargin: 20px 0 0 20px;\\n\\t\\t\\tbackground: url(data:image/png;base64,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) left top no-repeat;\\n\\t\\t}\\n\\n\\t\\t/* Card */\\n\\t\\t.card {\\n\\t\\t\\tbackground-color: #fff;\\n\\t\\t\\tborder-radius: 0.25rem;\\n\\t\\t\\tbox-shadow: 0 1px 0 rgba(0, 0, 0, 0.25);\\n\\t\\t\\tpadding: 2rem 2rem 1rem;\\n\\t\\t\\tmargin: 0 auto 2rem;\\n\\t\\t\\tposition: relative;\\n\\t\\t\\tborder: 1px solid #e8e8e8;\\n\\t\\t}\\n\\t\\t@media only screen and (max-width: 640px) {\\n\\t\\t\\t.card {\\n\\t\\t\\t\\tpadding: 1rem;\\n\\t\\t\\t}\\n\\t\\t}\\n\\t\\t.warning_icon {\\n\\t\\t\\tmargin: 0 4px;\\n\\t\\t\\ttransform: translateY(2px);\\n\\t\\t}\\n\\t</style>\\n</head>\\n<body>\\n\\t<nav class=\"top persistent\">\\n\\t\\t<a href=\"https://status.slack.com/\" class=\"logo\" data-qa=\"logo\"></a>\\n\\t</nav>\\n\\t<div id=\"page\">\\n\\t\\t<div id=\"page_contents\">\\n\\t\\t\\t<h1>\\n\\t\\t\\t\\t<svg width=\"30px\" height=\"27px\" viewBox=\"0 0 60 54\" class=\"warning_icon\"><path d=\"M51.6 54C56.9 54 60 51 60 47 60 45.4 59.6 43.8 58.6 42.1L36.9 4.8C35 1.6 32.5 0 30 0 27.5 0 25 1.6 23.1 4.8L1.4 42.1C0.4 43.8 0 45.4 0 47 0 51 3.1 54 8.4 54L51.6 54ZM51.6 49.5L8.4 49.5C6 49.5 4.7 48.3 4.7 46.6 4.7 45.9 4.9 45.1 5.3 44.2L27.1 7C27.9 5.5 28.9 4.8 30 4.8 31.1 4.8 32.1 5.5 32.9 7L54.7 44.2C55.2 45.1 55.4 45.9 55.4 46.6 55.4 48.3 54 49.5 51.6 49.5ZM30 33C31.7 33 33 31.6 33 30L33 18C33 16.3 31.7 15 30 15 28.4 15 27 16.3 27 18L27 30C27 31.6 28.4 33 30 33ZM30 45C32.1 45 33.8 43.3 33.8 41.2 33.8 39.2 32.1 37.5 30 37.5 27.9 37.5 26.3 39.2 26.3 41.2 26.3 43.3 27.9 45 30 45Z\" fill=\"#D94827\"/></svg>\\n\\t\\t\\t\\tServer Error\\n\\t\\t\\t</h1>\\n\\t\\t\\t<div class=\"card\">\\n\\t\\t\\t\\t<p>It seems like there’s a problem connecting to our servers, and we’re investigating the issue.</p>\\n\\t\\t\\t\\t<p>Please <a href=\"https://status.slack.com/\" target=\"_blank\" rel=\"noopener noreferrer\">check our Status page for updates</a>.</p>\\n\\t\\t\\t</div>\\n\\t\\t</div>\\n\\t</div>\\n\\t<script type=\"text/javascript\">\\n\\t\\tif (window.desktop) {\\n\\t\\t\\tdocument.documentElement.className = \\'desktop\\';\\n\\t\\t}\\n\\n\\t\\tvar FIVE_MINS = 5 * 60 * 1000;\\n\\t\\tvar TEN_MINS = 10 * 60 * 1000;\\n\\n\\t\\tfunction randomBetween(min, max) {\\n\\t\\t\\treturn Math.floor(Math.random() * (max - (min + 1))) + min;\\n\\t\\t}\\n\\n\\t\\twindow.setTimeout(function () {\\n\\t\\t\\twindow.location.reload(true);\\n\\t\\t}, randomBetween(FIVE_MINS, TEN_MINS));\\n\\t</script>\\n</body>\\n</html>\\n'}",
      "\nDuring handling of the above exception, another exception occurred:\n",
      "\u001b[0;31mKeyError\u001b[0m                                  Traceback (most recent call last)",
      "Cell \u001b[0;32mIn[2], line 4\u001b[0m\n\u001b[1;32m      2\u001b[0m slack_token \u001b[38;5;241m=\u001b[39m os\u001b[38;5;241m.\u001b[39mgetenv(\u001b[38;5;124m\"\u001b[39m\u001b[38;5;124mSLACK_TOKEN\u001b[39m\u001b[38;5;124m\"\u001b[39m)\n\u001b[1;32m      3\u001b[0m channel_ids \u001b[38;5;241m=\u001b[39m [\u001b[38;5;124m\"\u001b[39m\u001b[38;5;124mhpc\u001b[39m\u001b[38;5;124m\"\u001b[39m]\n\u001b[0;32m----> 4\u001b[0m documents \u001b[38;5;241m=\u001b[39m \u001b[43mSlackReader\u001b[49m\u001b[43m(\u001b[49m\u001b[43mslack_token\u001b[49m\u001b[38;5;241;43m=\u001b[39;49m\u001b[43mslack_token\u001b[49m\u001b[43m)\u001b[49m\u001b[38;5;241;43m.\u001b[39;49m\u001b[43mload_data\u001b[49m\u001b[43m(\u001b[49m\u001b[43mchannel_ids\u001b[49m\u001b[38;5;241;43m=\u001b[39;49m\u001b[43mchannel_ids\u001b[49m\u001b[43m)\u001b[49m\n\u001b[1;32m      5\u001b[0m index \u001b[38;5;241m=\u001b[39m GPTListIndex\u001b[38;5;241m.\u001b[39mfrom_documents(documents)\n",
      "File \u001b[0;32m~/dev/gpt-semantic-search/env/lib/python3.9/site-packages/llama_index/readers/slack.py:188\u001b[0m, in \u001b[0;36mSlackReader.load_data\u001b[0;34m(self, channel_ids, reverse_chronological)\u001b[0m\n\u001b[1;32m    186\u001b[0m results \u001b[38;5;241m=\u001b[39m []\n\u001b[1;32m    187\u001b[0m \u001b[38;5;28;01mfor\u001b[39;00m channel_id \u001b[38;5;129;01min\u001b[39;00m channel_ids:\n\u001b[0;32m--> 188\u001b[0m     channel_content \u001b[38;5;241m=\u001b[39m \u001b[38;5;28;43mself\u001b[39;49m\u001b[38;5;241;43m.\u001b[39;49m\u001b[43m_read_channel\u001b[49m\u001b[43m(\u001b[49m\n\u001b[1;32m    189\u001b[0m \u001b[43m        \u001b[49m\u001b[43mchannel_id\u001b[49m\u001b[43m,\u001b[49m\u001b[43m \u001b[49m\u001b[43mreverse_chronological\u001b[49m\u001b[38;5;241;43m=\u001b[39;49m\u001b[43mreverse_chronological\u001b[49m\n\u001b[1;32m    190\u001b[0m \u001b[43m    \u001b[49m\u001b[43m)\u001b[49m\n\u001b[1;32m    191\u001b[0m     results\u001b[38;5;241m.\u001b[39mappend(\n\u001b[1;32m    192\u001b[0m         Document(channel_content, extra_info\u001b[38;5;241m=\u001b[39m{\u001b[38;5;124m\"\u001b[39m\u001b[38;5;124mchannel\u001b[39m\u001b[38;5;124m\"\u001b[39m: channel_id})\n\u001b[1;32m    193\u001b[0m     )\n\u001b[1;32m    194\u001b[0m \u001b[38;5;28;01mreturn\u001b[39;00m results\n",
      "File \u001b[0;32m~/dev/gpt-semantic-search/env/lib/python3.9/site-packages/llama_index/readers/slack.py:160\u001b[0m, in \u001b[0;36mSlackReader._read_channel\u001b[0;34m(self, channel_id, reverse_chronological)\u001b[0m\n\u001b[1;32m    157\u001b[0m     next_cursor \u001b[38;5;241m=\u001b[39m result[\u001b[38;5;124m\"\u001b[39m\u001b[38;5;124mresponse_metadata\u001b[39m\u001b[38;5;124m\"\u001b[39m][\u001b[38;5;124m\"\u001b[39m\u001b[38;5;124mnext_cursor\u001b[39m\u001b[38;5;124m\"\u001b[39m]\n\u001b[1;32m    159\u001b[0m \u001b[38;5;28;01mexcept\u001b[39;00m SlackApiError \u001b[38;5;28;01mas\u001b[39;00m e:\n\u001b[0;32m--> 160\u001b[0m     \u001b[38;5;28;01mif\u001b[39;00m \u001b[43me\u001b[49m\u001b[38;5;241;43m.\u001b[39;49m\u001b[43mresponse\u001b[49m\u001b[43m[\u001b[49m\u001b[38;5;124;43m\"\u001b[39;49m\u001b[38;5;124;43merror\u001b[39;49m\u001b[38;5;124;43m\"\u001b[39;49m\u001b[43m]\u001b[49m \u001b[38;5;241m==\u001b[39m \u001b[38;5;124m\"\u001b[39m\u001b[38;5;124mratelimited\u001b[39m\u001b[38;5;124m\"\u001b[39m:\n\u001b[1;32m    161\u001b[0m         logger\u001b[38;5;241m.\u001b[39merror(\n\u001b[1;32m    162\u001b[0m             \u001b[38;5;124m\"\u001b[39m\u001b[38;5;124mRate limit error reached, sleeping for: \u001b[39m\u001b[38;5;132;01m{}\u001b[39;00m\u001b[38;5;124m seconds\u001b[39m\u001b[38;5;124m\"\u001b[39m\u001b[38;5;241m.\u001b[39mformat(\n\u001b[1;32m    163\u001b[0m                 e\u001b[38;5;241m.\u001b[39mresponse\u001b[38;5;241m.\u001b[39mheaders[\u001b[38;5;124m\"\u001b[39m\u001b[38;5;124mretry-after\u001b[39m\u001b[38;5;124m\"\u001b[39m]\n\u001b[1;32m    164\u001b[0m             )\n\u001b[1;32m    165\u001b[0m         )\n\u001b[1;32m    166\u001b[0m         time\u001b[38;5;241m.\u001b[39msleep(\u001b[38;5;28mint\u001b[39m(e\u001b[38;5;241m.\u001b[39mresponse\u001b[38;5;241m.\u001b[39mheaders[\u001b[38;5;124m\"\u001b[39m\u001b[38;5;124mretry-after\u001b[39m\u001b[38;5;124m\"\u001b[39m]))\n",
      "\u001b[0;31mKeyError\u001b[0m: 'error'"
     ]
    }
   ],
   "source": [
    "from llama_index import GPTListIndex, SlackReader\n",
    "slack_token = os.getenv(\"SLACK_TOKEN\")\n",
    "channel_ids = [\"hpc\"]\n",
    "documents = SlackReader(slack_token=slack_token).load_data(channel_ids=channel_ids)\n",
    "index = GPTListIndex.from_documents(documents)"
   ]
  },
  {
   "cell_type": "code",
   "execution_count": null,
   "id": "44ba4022",
   "metadata": {},
   "outputs": [],
   "source": [
    "from slack_sdk import WebClient\n",
    "client = WebClient(token=slack_token)\n",
    "res = client.api_test()\n",
    "if not res[\"ok\"]:\n",
    "    raise ValueError(f\"Error initializing Slack API: {res['error']}\")"
   ]
  },
  {
   "cell_type": "code",
   "execution_count": null,
   "id": "d2981def",
   "metadata": {},
   "outputs": [
    {
     "data": {
      "text/plain": [
       "{'id': 'W8FRV3WSD',\n",
       " 'team_id': 'T011UK0B5QD',\n",
       " 'name': 'parekhr',\n",
       " 'deleted': False,\n",
       " 'color': 'aba727',\n",
       " 'real_name': 'Ruchi Parekh',\n",
       " 'tz': 'America/New_York',\n",
       " 'tz_label': 'Eastern Daylight Time',\n",
       " 'tz_offset': -14400,\n",
       " 'profile': {'title': 'Director, Annotation & Analytics',\n",
       "  'phone': '+1 (571) 209-4000 x1444',\n",
       "  'skype': '',\n",
       "  'real_name': 'Ruchi Parekh',\n",
       "  'real_name_normalized': 'Ruchi Parekh',\n",
       "  'display_name': 'parekhr',\n",
       "  'display_name_normalized': 'parekhr',\n",
       "  'fields': None,\n",
       "  'status_text': '',\n",
       "  'status_emoji': '',\n",
       "  'status_emoji_display_info': [],\n",
       "  'status_expiration': 1604379599,\n",
       "  'avatar_hash': '4055dd671afd',\n",
       "  'image_original': 'https://avatars.slack-edge.com/2019-01-18/527300937698_4055dd671afd83c47254_original.jpg',\n",
       "  'is_custom_image': True,\n",
       "  'first_name': 'Ruchi',\n",
       "  'last_name': 'Parekh',\n",
       "  'image_24': 'https://avatars.slack-edge.com/2019-01-18/527300937698_4055dd671afd83c47254_24.jpg',\n",
       "  'image_32': 'https://avatars.slack-edge.com/2019-01-18/527300937698_4055dd671afd83c47254_32.jpg',\n",
       "  'image_48': 'https://avatars.slack-edge.com/2019-01-18/527300937698_4055dd671afd83c47254_48.jpg',\n",
       "  'image_72': 'https://avatars.slack-edge.com/2019-01-18/527300937698_4055dd671afd83c47254_72.jpg',\n",
       "  'image_192': 'https://avatars.slack-edge.com/2019-01-18/527300937698_4055dd671afd83c47254_192.jpg',\n",
       "  'image_512': 'https://avatars.slack-edge.com/2019-01-18/527300937698_4055dd671afd83c47254_512.jpg',\n",
       "  'image_1024': 'https://avatars.slack-edge.com/2019-01-18/527300937698_4055dd671afd83c47254_1024.jpg',\n",
       "  'status_text_canonical': '',\n",
       "  'team': 'T011UK0B5QD'},\n",
       " 'is_admin': False,\n",
       " 'is_owner': False,\n",
       " 'is_primary_owner': False,\n",
       " 'is_restricted': False,\n",
       " 'is_ultra_restricted': False,\n",
       " 'is_bot': False,\n",
       " 'is_app_user': False,\n",
       " 'updated': 1677854615,\n",
       " 'is_email_confirmed': True,\n",
       " 'has_2fa': False,\n",
       " 'who_can_share_contact_card': 'EVERYONE',\n",
       " 'enterprise_user': {'id': 'W8FRV3WSD',\n",
       "  'enterprise_id': 'E7T75T6FR',\n",
       "  'enterprise_name': 'HHMI',\n",
       "  'is_admin': False,\n",
       "  'is_owner': False,\n",
       "  'is_primary_owner': False,\n",
       "  'teams': ['T010K5MEU74',\n",
       "   'T011UK0B5QD',\n",
       "   'T017DDVPULA',\n",
       "   'T01MEEF3LE5',\n",
       "   'T01RQFBHCAK',\n",
       "   'T02063ME8MR',\n",
       "   'T028CKL99RV',\n",
       "   'T02LTA7JZC0',\n",
       "   'T03CU5Y4FPU',\n",
       "   'T0SP1EXMM',\n",
       "   'T0STLGC4R',\n",
       "   'T2FCMGXU2',\n",
       "   'T3EBQ3154',\n",
       "   'T3ZGM8JJU',\n",
       "   'T8RAZ5W3Z',\n",
       "   'TDBDJ2GHX',\n",
       "   'TK09SH99V']}}"
      ]
     },
     "execution_count": 19,
     "metadata": {},
     "output_type": "execute_result"
    }
   ],
   "source": [
    "request = client.api_call(\"users.list\")\n",
    "request['members'][3]"
   ]
  },
  {
   "cell_type": "code",
   "execution_count": null,
   "id": "da6b3991",
   "metadata": {},
   "outputs": [
    {
     "name": "stdout",
     "output_type": "stream",
     "text": [
      "171 users\n"
     ]
    }
   ],
   "source": [
    "user_map = {}\n",
    "request = client.api_call(\"users.list\")\n",
    "if request['ok']:\n",
    "    for item in request['members']:\n",
    "        id = item['id']\n",
    "        username = item['name']\n",
    "        name = item['profile']['real_name']\n",
    "        user_map[id] = name\n",
    "\n",
    "print(f\"{len(user_map)} users\")"
   ]
  },
  {
   "cell_type": "code",
   "execution_count": 4,
   "id": "45d3a12a",
   "metadata": {},
   "outputs": [],
   "source": [
    "\n",
    "from typing import List, Optional\n",
    "import time\n",
    "import logging\n",
    "logger = logging.getLogger()\n",
    "\n",
    "def _read_message(channel_id: str, message_ts: str) -> str:\n",
    "    from slack_sdk.errors import SlackApiError\n",
    "\n",
    "    \"\"\"Read a message.\"\"\"\n",
    "\n",
    "    messages_text: List[str] = []\n",
    "    next_cursor = None\n",
    "    while True:\n",
    "        try:\n",
    "            # https://slack.com/api/conversations.replies\n",
    "            # List all replies to a message, including the message itself.\n",
    "            result = client.conversations_replies(\n",
    "                channel=channel_id, ts=message_ts, cursor=next_cursor\n",
    "            )\n",
    "            messages = result[\"messages\"]\n",
    "            messages_text.extend(message[\"text\"] for message in messages)\n",
    "            if not result[\"has_more\"]:\n",
    "                break\n",
    "\n",
    "            next_cursor = result[\"response_metadata\"][\"next_cursor\"]\n",
    "        except SlackApiError as e:\n",
    "            if e.response[\"error\"] == \"ratelimited\":\n",
    "                logger.error(\n",
    "                    \"Rate limit error reached, sleeping for: {} seconds\".format(\n",
    "                        e.response.headers[\"retry-after\"]\n",
    "                    )\n",
    "                )\n",
    "                time.sleep(int(e.response.headers[\"retry-after\"]))\n",
    "            else:\n",
    "                logger.error(\"Error parsing conversation replies: {}\".format(e))\n",
    "\n",
    "    return \"\\n\\n\".join(messages_text)\n",
    "\n",
    "def _read_channel(channel_id: str, reverse_chronological: bool) -> str:\n",
    "    from slack_sdk.errors import SlackApiError\n",
    "\n",
    "    \"\"\"Read a channel.\"\"\"\n",
    "\n",
    "    result_messages: List[str] = []\n",
    "    next_cursor = None\n",
    "    while True:\n",
    "        try:\n",
    "            # Call the conversations.history method using the WebClient\n",
    "            # conversations.history returns the first 100 messages by default\n",
    "            # These results are paginated,\n",
    "            # see: https://api.slack.com/methods/conversations.history$pagination\n",
    "            conversations_history_kwargs = {\n",
    "                \"channel\": channel_id,\n",
    "                \"cursor\": next_cursor,\n",
    "            }\n",
    "            result = client.conversations_history(\n",
    "                **conversations_history_kwargs  # type: ignore\n",
    "            )\n",
    "            conversation_history = result[\"messages\"]\n",
    "            # Print results\n",
    "            logger.info(\n",
    "                \"{} messages found in {}\".format(\n",
    "                    len(conversation_history), channel_id\n",
    "                )\n",
    "            )\n",
    "            result_messages.extend(\n",
    "                _read_message(channel_id, message[\"ts\"])\n",
    "                for message in conversation_history\n",
    "            )\n",
    "            if not result[\"has_more\"]:\n",
    "                break\n",
    "            next_cursor = result[\"response_metadata\"][\"next_cursor\"]\n",
    "\n",
    "        except SlackApiError as e:\n",
    "            if e.response[\"error\"] == \"ratelimited\":\n",
    "                logger.error(\n",
    "                    \"Rate limit error reached, sleeping for: {} seconds\".format(\n",
    "                        e.response.headers[\"retry-after\"]\n",
    "                    )\n",
    "                )\n",
    "                time.sleep(int(e.response.headers[\"retry-after\"]))\n",
    "            else:\n",
    "                logger.error(\"Error parsing conversation replies: {}\".format(e))\n",
    "\n",
    "    return (\n",
    "        \"\\n\\n\".join(result_messages)\n",
    "        if reverse_chronological\n",
    "        else \"\\n\\n\".join(result_messages[::-1])\n",
    "    )\n",
    "\n",
    "\n"
   ]
  },
  {
   "cell_type": "code",
   "execution_count": 7,
   "id": "e73bac29",
   "metadata": {},
   "outputs": [
    {
     "data": {
      "text/plain": [
       "'Noticed by <@W94TA6021> and posted on <#C03CZHVDQF4|go> channel but probably even more pertinent to this channel since it hasn\\'t been mentioned AFAIK but is used by a number of companies for ML and data processing: <https://docs.flyte.org/en/latest/>\\n<https://github.com/flyteorg/flyte>\\n\\nDuring a volume EM data workgroup meeting (most participants based in Europe), a researcher working on a VDI solution for bioimage analysis talked about how the more \"computationally experienced\" people were using NextFlow for their workflows.   This BAND system is an experiment to test general computational access with virtual workstation display via VNC.\\n\\nI mention this because there was a question on how much NextFlow is being adopted for bioimaging in addition to its current bioinformatics concentration.\\n\\nWe\\'ve started discussing with EMBL and others on using Nextflow for bioimaging pipelines. There\\'s an ongoing chat here: <https://imagesc.zulipchat.com/#narrow/stream/367292-Nextflow>\\n\\nWe also have a <#C020ZKT8ZB9|nextflow> channel here.\\n\\n<@U04ES3WBN3V> has joined the channel\\n\\nThread on why \"bioinformatics workflow managers (Nextflow, Snakemake, CWL, WDL, Redun, etc) exist in parallel to data engineering workflow managers (Airflow, Dagster, Prefect).\"\\n<https://twitter.com/BenSiranosian/status/1558631901346164736?s=20&amp;t=faaWNB37i2LazFcnOvDFPA>\\n\\n*Nextflow Tower*\\nOfficial public server: <https://tower.nf>\\nJanelia internal server: <http://nextflow.int.janelia.org>\\n\\n*Recent review paper:*\\n_Approaches for containerized scientific workflows in cloud environments with applications in life science_:\\n<https://peerj.com/preprints/27141/>\\nTheir conclusions:\\n• Galaxy has a graphical user interface and might be more attractive for users with less expertise in programming/scripting.\\n• Nextflow is arguably the most versatile systems for working with containers being able to operator either on cloud and HPC batch schedulers.\\n• Pachyderm is build specifically for running on Kubernetes and has a data versioning file system built-in.\\n• Luigi/SciLuigi supports many data sources out of the box, including HDFS, S3, etc. and integrates seamlessly with Apache Hadoop and Spark.\\n• SciPipe implements an agile workflow programming API that smoothly integrates with the fast growing Go programming language ecosystem.\\n\\nA few workflow systems suggested in today\\'s DevOps chat:\\n<https://www.pachyderm.com>\\n<https://www.prefect.io>\\n\\n<@W94TA6021> has joined the channel\\n\\n<@W976239RN> has joined the channel\\n\\n<@W98102BPT> has joined the channel\\n\\n<@W9CLKL509> has joined the channel\\n\\n<@W014VCMKWLS> has joined the channel\\n\\n<@W98103T5X> has joined the channel\\n\\n<@W8WM9KJ15> has joined the channel\\n\\nset the channel description: Workflow systems, pipelines, and computational plugins\\n\\n<@W97NAKQN7> has joined the channel'"
      ]
     },
     "execution_count": 7,
     "metadata": {},
     "output_type": "execute_result"
    }
   ],
   "source": [
    "channel_id = \"C019ZPNLLA0\" # workflows\n",
    "channel_content = _read_channel(\n",
    "    channel_id, reverse_chronological=True\n",
    ")\n"
   ]
  },
  {
   "cell_type": "code",
   "execution_count": 8,
   "id": "07d7299f",
   "metadata": {},
   "outputs": [
    {
     "name": "stdout",
     "output_type": "stream",
     "text": [
      "Noticed by <@W94TA6021> and posted on <#C03CZHVDQF4|go> channel but probably even more pertinent to this channel since it hasn't been mentioned AFAIK but is used by a number of companies for ML and data processing: <https://docs.flyte.org/en/latest/>\n",
      "<https://github.com/flyteorg/flyte>\n",
      "\n",
      "During a volume EM data workgroup meeting (most participants based in Europe), a researcher working on a VDI solution for bioimage analysis talked about how the more \"computationally experienced\" people were using NextFlow for their workflows.   This BAND system is an experiment to test general computational access with virtual workstation display via VNC.\n",
      "\n",
      "I mention this because there was a question on how much NextFlow is being adopted for bioimaging in addition to its current bioinformatics concentration.\n",
      "\n",
      "We've started discussing with EMBL and others on using Nextflow for bioimaging pipelines. There's an ongoing chat here: <https://imagesc.zulipchat.com/#narrow/stream/367292-Nextflow>\n",
      "\n",
      "We also have a <#C020ZKT8ZB9|nextflow> channel here.\n",
      "\n",
      "<@U04ES3WBN3V> has joined the channel\n",
      "\n",
      "Thread on why \"bioinformatics workflow managers (Nextflow, Snakemake, CWL, WDL, Redun, etc) exist in parallel to data engineering workflow managers (Airflow, Dagster, Prefect).\"\n",
      "<https://twitter.com/BenSiranosian/status/1558631901346164736?s=20&amp;t=faaWNB37i2LazFcnOvDFPA>\n",
      "\n",
      "*Nextflow Tower*\n",
      "Official public server: <https://tower.nf>\n",
      "Janelia internal server: <http://nextflow.int.janelia.org>\n",
      "\n",
      "*Recent review paper:*\n",
      "_Approaches for containerized scientific workflows in cloud environments with applications in life science_:\n",
      "<https://peerj.com/preprints/27141/>\n",
      "Their conclusions:\n",
      "• Galaxy has a graphical user interface and might be more attractive for users with less expertise in programming/scripting.\n",
      "• Nextflow is arguably the most versatile systems for working with containers being able to operator either on cloud and HPC batch schedulers.\n",
      "• Pachyderm is build specifically for running on Kubernetes and has a data versioning file system built-in.\n",
      "• Luigi/SciLuigi supports many data sources out of the box, including HDFS, S3, etc. and integrates seamlessly with Apache Hadoop and Spark.\n",
      "• SciPipe implements an agile workflow programming API that smoothly integrates with the fast growing Go programming language ecosystem.\n",
      "\n",
      "A few workflow systems suggested in today's DevOps chat:\n",
      "<https://www.pachyderm.com>\n",
      "<https://www.prefect.io>\n",
      "\n",
      "<@W94TA6021> has joined the channel\n",
      "\n",
      "<@W976239RN> has joined the channel\n",
      "\n",
      "<@W98102BPT> has joined the channel\n",
      "\n",
      "<@W9CLKL509> has joined the channel\n",
      "\n",
      "<@W014VCMKWLS> has joined the channel\n",
      "\n",
      "<@W98103T5X> has joined the channel\n",
      "\n",
      "<@W8WM9KJ15> has joined the channel\n",
      "\n",
      "set the channel description: Workflow systems, pipelines, and computational plugins\n",
      "\n",
      "<@W97NAKQN7> has joined the channel\n"
     ]
    }
   ],
   "source": [
    "print(channel_content)"
   ]
  },
  {
   "cell_type": "code",
   "execution_count": 61,
   "id": "e816cc18",
   "metadata": {},
   "outputs": [
    {
     "name": "stdout",
     "output_type": "stream",
     "text": [
      "https://janelia-dev.slack.com/archives/C057Z7J7F29/p1684259866667699\n"
     ]
    }
   ],
   "source": [
    "\n",
    "channel_id = \"C057Z7J7F29\"\n",
    "message_ts = \"1684259866.667699\"\n",
    "\n",
    "res = client.chat_getPermalink(channel=channel_id, message_ts=message_ts)\n",
    "if res['ok']:\n",
    "    print(res['permalink'])\n"
   ]
  }
 ],
 "metadata": {
  "kernelspec": {
   "display_name": "Python 3 (ipykernel)",
   "language": "python",
   "name": "python3"
  },
  "language_info": {
   "codemirror_mode": {
    "name": "ipython",
    "version": 3
   },
   "file_extension": ".py",
   "mimetype": "text/x-python",
   "name": "python",
   "nbconvert_exporter": "python",
   "pygments_lexer": "ipython3",
   "version": "3.9.15"
  }
 },
 "nbformat": 4,
 "nbformat_minor": 5
}
