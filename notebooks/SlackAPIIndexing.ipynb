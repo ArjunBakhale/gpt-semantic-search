{
 "cells": [
  {
   "cell_type": "code",
   "execution_count": null,
   "id": "4fa2da29",
   "metadata": {},
   "outputs": [],
   "source": [
    "import os "
   ]
  },
  {
   "cell_type": "code",
   "execution_count": null,
   "id": "7279d1a3",
   "metadata": {},
   "outputs": [],
   "source": [
    "from llama_index.legacy import GPTListIndex, SlackReader\n",
    "slack_token = os.getenv(\"SLACK_TOKEN\")\n",
    "channel_ids = [\"hpc\"]\n",
    "documents = SlackReader(slack_token=slack_token).load_data(channel_ids=channel_ids)\n",
    "index = GPTListIndex.from_documents(documents)"
   ]
  },
  {
   "cell_type": "code",
   "execution_count": null,
   "id": "44ba4022",
   "metadata": {},
   "outputs": [],
   "source": [
    "from slack_sdk import WebClient\n",
    "client = WebClient(token=slack_token)\n",
    "res = client.api_test()\n",
    "if not res[\"ok\"]:\n",
    "    raise ValueError(f\"Error initializing Slack API: {res['error']}\")"
   ]
  },
  {
   "cell_type": "code",
   "execution_count": null,
   "id": "d2981def",
   "metadata": {},
   "outputs": [],
   "source": [
    "request = client.api_call(\"users.list\")\n",
    "request['members'][3]"
   ]
  },
  {
   "cell_type": "code",
   "execution_count": null,
   "id": "da6b3991",
   "metadata": {},
   "outputs": [],
   "source": [
    "user_map = {}\n",
    "request = client.api_call(\"users.list\")\n",
    "if request['ok']:\n",
    "    for item in request['members']:\n",
    "        id = item['id']\n",
    "        username = item['name']\n",
    "        name = item['profile']['real_name']\n",
    "        user_map[id] = name\n",
    "\n",
    "print(f\"{len(user_map)} users\")"
   ]
  },
  {
   "cell_type": "code",
   "execution_count": null,
   "id": "45d3a12a",
   "metadata": {},
   "outputs": [],
   "source": [
    "\n",
    "from typing import List, Optional\n",
    "import time\n",
    "import logging\n",
    "logger = logging.getLogger()\n",
    "\n",
    "def _read_message(channel_id: str, message_ts: str) -> str:\n",
    "    from slack_sdk.errors import SlackApiError\n",
    "\n",
    "    \"\"\"Read a message.\"\"\"\n",
    "\n",
    "    messages_text: List[str] = []\n",
    "    next_cursor = None\n",
    "    while True:\n",
    "        try:\n",
    "            # https://slack.com/api/conversations.replies\n",
    "            # List all replies to a message, including the message itself.\n",
    "            result = client.conversations_replies(\n",
    "                channel=channel_id, ts=message_ts, cursor=next_cursor\n",
    "            )\n",
    "            messages = result[\"messages\"]\n",
    "            messages_text.extend(message[\"text\"] for message in messages)\n",
    "            if not result[\"has_more\"]:\n",
    "                break\n",
    "\n",
    "            next_cursor = result[\"response_metadata\"][\"next_cursor\"]\n",
    "        except SlackApiError as e:\n",
    "            if e.response[\"error\"] == \"ratelimited\":\n",
    "                logger.error(\n",
    "                    \"Rate limit error reached, sleeping for: {} seconds\".format(\n",
    "                        e.response.headers[\"retry-after\"]\n",
    "                    )\n",
    "                )\n",
    "                time.sleep(int(e.response.headers[\"retry-after\"]))\n",
    "            else:\n",
    "                logger.error(\"Error parsing conversation replies: {}\".format(e))\n",
    "\n",
    "    return \"\\n\\n\".join(messages_text)\n",
    "\n",
    "def _read_channel(channel_id: str, reverse_chronological: bool) -> str:\n",
    "    from slack_sdk.errors import SlackApiError\n",
    "\n",
    "    \"\"\"Read a channel.\"\"\"\n",
    "\n",
    "    result_messages: List[str] = []\n",
    "    next_cursor = None\n",
    "    while True:\n",
    "        try:\n",
    "            # Call the conversations.history method using the WebClient\n",
    "            # conversations.history returns the first 100 messages by default\n",
    "            # These results are paginated,\n",
    "            # see: https://api.slack.com/methods/conversations.history$pagination\n",
    "            conversations_history_kwargs = {\n",
    "                \"channel\": channel_id,\n",
    "                \"cursor\": next_cursor,\n",
    "            }\n",
    "            result = client.conversations_history(\n",
    "                **conversations_history_kwargs  # type: ignore\n",
    "            )\n",
    "            conversation_history = result[\"messages\"]\n",
    "            # Print results\n",
    "            logger.info(\n",
    "                \"{} messages found in {}\".format(\n",
    "                    len(conversation_history), channel_id\n",
    "                )\n",
    "            )\n",
    "            result_messages.extend(\n",
    "                _read_message(channel_id, message[\"ts\"])\n",
    "                for message in conversation_history\n",
    "            )\n",
    "            if not result[\"has_more\"]:\n",
    "                break\n",
    "            next_cursor = result[\"response_metadata\"][\"next_cursor\"]\n",
    "\n",
    "        except SlackApiError as e:\n",
    "            if e.response[\"error\"] == \"ratelimited\":\n",
    "                logger.error(\n",
    "                    \"Rate limit error reached, sleeping for: {} seconds\".format(\n",
    "                        e.response.headers[\"retry-after\"]\n",
    "                    )\n",
    "                )\n",
    "                time.sleep(int(e.response.headers[\"retry-after\"]))\n",
    "            else:\n",
    "                logger.error(\"Error parsing conversation replies: {}\".format(e))\n",
    "\n",
    "    return (\n",
    "        \"\\n\\n\".join(result_messages)\n",
    "        if reverse_chronological\n",
    "        else \"\\n\\n\".join(result_messages[::-1])\n",
    "    )\n",
    "\n",
    "\n"
   ]
  },
  {
   "cell_type": "code",
   "execution_count": null,
   "id": "e73bac29",
   "metadata": {},
   "outputs": [],
   "source": [
    "channel_id = \"C019ZPNLLA0\" # workflows\n",
    "channel_content = _read_channel(\n",
    "    channel_id, reverse_chronological=True\n",
    ")\n"
   ]
  },
  {
   "cell_type": "code",
   "execution_count": null,
   "id": "07d7299f",
   "metadata": {},
   "outputs": [],
   "source": [
    "print(channel_content)"
   ]
  },
  {
   "cell_type": "code",
   "execution_count": null,
   "id": "e816cc18",
   "metadata": {},
   "outputs": [],
   "source": [
    "\n",
    "channel_id = \"C057Z7J7F29\"\n",
    "message_ts = \"1684259866.667699\"\n",
    "\n",
    "res = client.chat_getPermalink(channel=channel_id, message_ts=message_ts)\n",
    "if res['ok']:\n",
    "    print(res['permalink'])\n"
   ]
  }
 ],
 "metadata": {
  "kernelspec": {
   "display_name": "Python 3 (ipykernel)",
   "language": "python",
   "name": "python3"
  },
  "language_info": {
   "codemirror_mode": {
    "name": "ipython",
    "version": 3
   },
   "file_extension": ".py",
   "mimetype": "text/x-python",
   "name": "python",
   "nbconvert_exporter": "python",
   "pygments_lexer": "ipython3",
   "version": "3.9.15"
  }
 },
 "nbformat": 4,
 "nbformat_minor": 5
}
